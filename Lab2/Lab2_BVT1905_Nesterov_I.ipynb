{
 "metadata": {
  "language_info": {
   "codemirror_mode": {
    "name": "ipython",
    "version": 3
   },
   "file_extension": ".py",
   "mimetype": "text/x-python",
   "name": "python",
   "nbconvert_exporter": "python",
   "pygments_lexer": "ipython3",
   "version": "3.9.2"
  },
  "orig_nbformat": 2,
  "kernelspec": {
   "name": "python392jvsc74a57bd00d008810b9c8467bcb3ca39aa2180e5b81b3a9acb136aab30d47954377cc5120",
   "display_name": "Python 3.9.2 64-bit"
  },
  "metadata": {
   "interpreter": {
    "hash": "0d008810b9c8467bcb3ca39aa2180e5b81b3a9acb136aab30d47954377cc5120"
   }
  }
 },
 "nbformat": 4,
 "nbformat_minor": 2,
 "cells": [
  {
   "source": [
    "# Лабораторная работа №2\n",
    "### Выполнил студент БВТ1905 Нестеров Юрий\n",
    "## Задание №1"
   ],
   "cell_type": "markdown",
   "metadata": {}
  },
  {
   "cell_type": "code",
   "execution_count": 1,
   "metadata": {},
   "outputs": [],
   "source": [
    "import ipywidgets as wg\n",
    "import random\n",
    "import time\n",
    "\n",
    "user_min = wg.IntText(value=0, description=\"Min value: \", disabled=False)  # User inputs in notebook\n",
    "user_max = wg.IntText(value=0, description=\"Max value: \", disabled=False)\n",
    "user_num = wg.IntText(value=0, description=\"Amount: \", disabled=False)\n",
    "\n",
    "user_add = wg.IntText(value=0, description=\"Add value: \", disabled=False)\n",
    "user_delete = wg.IntText(value=0, description=\"Delete: \", disabled=False)\n",
    "\n",
    "user_binary = wg.IntText(value=0, description=\"Find:\", disabled=False)\n",
    "user_fibonacci = wg.IntText(value=0, description=\"Find:\", disabled=False)\n",
    "user_interpol = wg.IntText(value=0, description=\"Find:\", disabled=False)\n",
    "user_binary_tree = wg.IntText(value=0, description=\"Find:\", disabled=False)\n",
    "\n",
    "user_re_hash = wg.IntText(value=0, description=\"Find: \", disabled=False)\n",
    "user_random_hash = wg.IntText(value=0, description=\"Find: \", disable=False)\n",
    "user_chain_hash = wg.IntText(value=0, description=\"Find: \", disable=False)"
   ]
  },
  {
   "source": [
    "### Сгенерировать список"
   ],
   "cell_type": "markdown",
   "metadata": {}
  },
  {
   "cell_type": "code",
   "execution_count": 5,
   "metadata": {
    "tags": []
   },
   "outputs": [
    {
     "output_type": "display_data",
     "data": {
      "text/plain": "IntText(value=150, description='Min value: ')",
      "application/vnd.jupyter.widget-view+json": {
       "version_major": 2,
       "version_minor": 0,
       "model_id": "31ffac723ae8438786d73574fee90f38"
      }
     },
     "metadata": {}
    },
    {
     "output_type": "display_data",
     "data": {
      "text/plain": "IntText(value=750, description='Max value: ')",
      "application/vnd.jupyter.widget-view+json": {
       "version_major": 2,
       "version_minor": 0,
       "model_id": "69e5afa260184dca906704e8fd2b9f75"
      }
     },
     "metadata": {}
    },
    {
     "output_type": "display_data",
     "data": {
      "text/plain": "IntText(value=10, description='Amount: ')",
      "application/vnd.jupyter.widget-view+json": {
       "version_major": 2,
       "version_minor": 0,
       "model_id": "d4009fd55e42480da590317eed698978"
      }
     },
     "metadata": {}
    },
    {
     "output_type": "stream",
     "name": "stdout",
     "text": [
      "List of 10 elements from 150 to 750 was created\n[182, 293, 301, 473, 484, 488, 559, 645, 649, 673]\n"
     ]
    }
   ],
   "source": [
    "def generate_list(min_value, max_value, num_value):\n",
    "    array = [random.randrange(min_value, max_value) for i in range(num_value)]\n",
    "    return array\n",
    "\n",
    "\n",
    "display(user_min, user_max, user_num)\n",
    "use_list = generate_list(user_min.value, user_max.value, user_num.value)\n",
    "use_list.sort()\n",
    "print(\"List of \" + str(user_num.value) + \" elements from \" + str(user_min.value) + \" to \" + str(user_max.value) + \" was created\")\n",
    "print(use_list)"
   ]
  },
  {
   "source": [
    "### Добавить в список элемент"
   ],
   "cell_type": "markdown",
   "metadata": {}
  },
  {
   "cell_type": "code",
   "execution_count": 3,
   "metadata": {
    "tags": []
   },
   "outputs": [
    {
     "output_type": "display_data",
     "data": {
      "text/plain": "IntText(value=0, description='Add value: ')",
      "application/vnd.jupyter.widget-view+json": {
       "version_major": 2,
       "version_minor": 0,
       "model_id": "01eb784a1c7044df821f6fc494c29731"
      }
     },
     "metadata": {}
    },
    {
     "output_type": "stream",
     "name": "stdout",
     "text": [
      "Element 0 was added to list\n[0]\n"
     ]
    }
   ],
   "source": [
    "display(user_add)\n",
    "use_list.append(user_add.value)\n",
    "use_list.sort()\n",
    "print(\"Element \" + str(user_add.value) + \" was added to list\")\n",
    "print(use_list)"
   ]
  },
  {
   "source": [
    "### Удалить элемент из списка"
   ],
   "cell_type": "markdown",
   "metadata": {}
  },
  {
   "cell_type": "code",
   "execution_count": 6,
   "metadata": {
    "tags": []
   },
   "outputs": [
    {
     "output_type": "display_data",
     "data": {
      "text/plain": "IntText(value=0, description='Delete: ')",
      "application/vnd.jupyter.widget-view+json": {
       "version_major": 2,
       "version_minor": 0,
       "model_id": "1526616719d24f408afadeb60d48315d"
      }
     },
     "metadata": {}
    },
    {
     "output_type": "stream",
     "name": "stdout",
     "text": [
      "Element 0 was not on the list\n[182, 293, 301, 473, 484, 488, 559, 645, 649, 673]\n"
     ]
    }
   ],
   "source": [
    "display(user_delete)\n",
    "if user_delete.value in use_list:\n",
    "    use_list.remove(user_delete.value)\n",
    "    print(\"Element \" + str(user_delete.value) + \" was removed from list\")\n",
    "else:\n",
    "    print(\"Element \" + str(user_delete.value) + \" was not on the list\")\n",
    "print(use_list)"
   ]
  },
  {
   "source": [
    "### Бинарный поиск"
   ],
   "cell_type": "markdown",
   "metadata": {}
  },
  {
   "cell_type": "code",
   "execution_count": 7,
   "metadata": {},
   "outputs": [
    {
     "output_type": "display_data",
     "data": {
      "text/plain": "IntText(value=0, description='Find:')",
      "application/vnd.jupyter.widget-view+json": {
       "version_major": 2,
       "version_minor": 0,
       "model_id": "61283999483349b1b414ee5645abb621"
      }
     },
     "metadata": {}
    },
    {
     "output_type": "stream",
     "name": "stdout",
     "text": [
      "Element 0 wasn't found\nTime: 0.0 s\n"
     ]
    }
   ],
   "source": [
    "def binary_search(array, key):  # Binary search\n",
    "    lower_bound = 0\n",
    "    upper_bound = len(array) - 1\n",
    "\n",
    "    while lower_bound <= upper_bound:\n",
    "        center = (lower_bound + upper_bound) // 2\n",
    "        \n",
    "        if array[center] > key:\n",
    "            upper_bound = center - 1\n",
    "        elif array[center] < key:\n",
    "            lower_bound = center + 1\n",
    "        else:\n",
    "            return center\n",
    "\n",
    "    return -1\n",
    "\n",
    "\n",
    "display(user_binary)\n",
    "time_start = time.time()\n",
    "find_key = binary_search(use_list, user_binary.value)\n",
    "time_stop = time.time() - time_start\n",
    "if find_key == -1:\n",
    "    print(\"Element {0} wasn't found\".format(str(user_binary.value)))\n",
    "elif find_key > -1:\n",
    "    print(\"Element {0} was found at {1}\".format(str(user_binary.value), str(find_key)))\n",
    "print(\"Time: {0} s\".format(time_stop))"
   ]
  },
  {
   "source": [
    "### Фибоначчиев поиск"
   ],
   "cell_type": "markdown",
   "metadata": {}
  },
  {
   "source": [
    "def fibonacci_search(array, key):\n",
    "    num_fib_m2 = 0  # variables for the Fibonacci sequence \n",
    "    num_fib_m1 = 1\n",
    "    num_fib = num_fib_m1 + num_fib_m2\n",
    "    while num_fib < len(array):\n",
    "        num_fib_m2 = num_fib_m1\n",
    "        num_fib_m1 = num_fib\n",
    "        num_fib = num_fib_m1 + num_fib_m2\n",
    "    index = -1\n",
    "    while num_fib > 1:  # if the index is between Fibonacci indices \n",
    "        i = min(index + num_fib_m2, (len(array) - 1))\n",
    "        if array[i] < key):\n",
    "            num_fib = num_fib_m1\n",
    "            num_fib_m1 = num_fib_m2\n",
    "            num_fib_m2 = num_fib - num_fib_m1\n",
    "            index = i\n",
    "        elif array[i] > key:\n",
    "            num_fib = num_fib_m2\n",
    "            num_fib_m1 = num_fib_m1 - num_fib_m2\n",
    "            num_fib_m2 = num_fib - num_fib_m1\n",
    "        else:\n",
    "            return i\n",
    "    if num_fib_m1 and index < len(array) - 1 and array[index + 1] == key:\n",
    "        return index + 1\n",
    "    return -1\n",
    "\n",
    "display(user_fibonacci)\n",
    "time_start = time.time()\n",
    "find_key = fibonacci_search(use_list, user_binary.value)\n",
    "time_stop = time.time() - time_start\n",
    "if find_key == -1:\n",
    "    print(\"Element {0} wasn't found\".format(str(user_fibonacci.value)))\n",
    "elif find_key > -1:\n",
    "    print(\"Element {0} was found at {1}\".format(str(user_fibonacci.value), str(find_key)))\n",
    "print(\"Time: {0} s\".format(time_stop))"
   ],
   "cell_type": "code",
   "metadata": {},
   "execution_count": 13,
   "outputs": [
    {
     "output_type": "display_data",
     "data": {
      "text/plain": "IntText(value=786896, description='Find:')",
      "application/vnd.jupyter.widget-view+json": {
       "version_major": 2,
       "version_minor": 0,
       "model_id": "905a9439ef5e4f488c7e66b4931afbc1"
      }
     },
     "metadata": {}
    },
    {
     "output_type": "stream",
     "name": "stdout",
     "text": [
      "Element 786896 was found at 7839\nTime: 0.001249551773071289 s\n"
     ]
    }
   ]
  },
  {
   "source": [
    "### Интерполяционный поиск"
   ],
   "cell_type": "markdown",
   "metadata": {}
  },
  {
   "cell_type": "code",
   "execution_count": 8,
   "metadata": {},
   "outputs": [
    {
     "output_type": "display_data",
     "data": {
      "text/plain": "IntText(value=0, description='Find:')",
      "application/vnd.jupyter.widget-view+json": {
       "version_major": 2,
       "version_minor": 0,
       "model_id": "4fe59b3a49744ceabea292555e5820f7"
      }
     },
     "metadata": {}
    },
    {
     "output_type": "stream",
     "name": "stdout",
     "text": [
      "Element 0 wasn't found\nTime: 0.0 s\n"
     ]
    }
   ],
   "source": [
    "def interpol_search(array, key):\n",
    "    lower_bound = 0\n",
    "    upper_bound = len(array) - 1\n",
    "    while lower_bound <= upper_bound and key >= array[lower_bound] and key <= array[upper_bound]:\n",
    "        index = lower_bound + int(((float(upper_bound - lower_bound) / (array[upper_bound] - array[lower_bound])) * (key - array[lower_bound])))\n",
    "        if array[index] == key:\n",
    "            return index\n",
    "        if array[index] < key:  # if the formula is wrong \n",
    "            lower_bound = index + 1\n",
    "        else:\n",
    "            upper_bound = index - 1\n",
    "    return -1\n",
    "\n",
    "display(user_interpol)\n",
    "time_start = time.time()\n",
    "find_key = interpol_search(use_list, user_interpol.value)\n",
    "time_stop = time.time() - time_start\n",
    "if find_key == -1:\n",
    "    print(\"Element {0} wasn't found\".format(str(user_interpol.value)))\n",
    "elif find_key > -1:\n",
    "    print(\"Element {0} was found at {1}\".format(str(user_interpol.value), str(find_key)))\n",
    "print(\"Time: {0} s\".format(time_stop))"
   ]
  },
  {
   "source": [
    "## Бинарное дерево"
   ],
   "cell_type": "markdown",
   "metadata": {}
  },
  {
   "cell_type": "code",
   "execution_count": 10,
   "metadata": {},
   "outputs": [],
   "source": [
    "class Tree:\n",
    "    def __init__(self, value = None):\n",
    "        self.value = value\n",
    "        self.left_child = self.right_child = None\n",
    "\n",
    "\n",
    "class BinarySearchTree:\n",
    "    def __init__(self):\n",
    "        self.root = None  # Initialization of a binary tree\n",
    "\n",
    "\n",
    "    def insert(self, value):\n",
    "        if self.root is None:\n",
    "            self.root = Tree(value)  # Create an object Tree, if binary tree doesn't exist\n",
    "        else:\n",
    "            self._insert(value, self.root)  # Go to private func, if binary tree exist\n",
    "\n",
    "    \n",
    "    def _insert(self, value, cur_node):\n",
    "        if value < cur_node.value:  # If value is lower, go down to left\n",
    "            if cur_node.left_child is None:\n",
    "                cur_node.left_child = Tree(value)\n",
    "            else:\n",
    "                self._insert(value, cur_node.left_child)\n",
    "        elif value > cur_node.value:  # If value is higher, go down to right\n",
    "            if cur_node.right_child is None:\n",
    "                cur_node.right_child = Tree(value)\n",
    "            else:\n",
    "                self._insert(value, cur_node.right_child)\n",
    "        else:\n",
    "            print(\"Value \" + str(cur_node.value) + \" is already in a tree!\")\n",
    "\n",
    "    \n",
    "    def search(self, value):\n",
    "        array = []  # List to print a path to element\n",
    "        if self.root is not None:\n",
    "            return self._search(value, self.root, array)\n",
    "        else:\n",
    "            array.append(False)\n",
    "            return array\n",
    "    \n",
    "\n",
    "    def _search(self, value, cur_node, array):\n",
    "        array.append(cur_node.value)\n",
    "        if value == cur_node.value:\n",
    "            return array\n",
    "        elif value < cur_node.value and cur_node.left_child is not None:\n",
    "            return self._search(value, cur_node.left_child, array)\n",
    "        elif value > cur_node.value and cur_node.right_child is not None:\n",
    "            return self._search(value, cur_node.right_child, array)\n",
    "        array.append(False)\n",
    "        return array\n",
    "\n",
    "\n",
    "    def delete(self, value):\n",
    "        if self.root is not None:\n",
    "            array = []  # List to store the children of the deleted item\n",
    "            return self._search_delete(value, self.root, array)\n",
    "        else:\n",
    "            print(\"Tree is already empty!\")\n",
    "    \n",
    "\n",
    "    def _search_delete(self, value, cur_node, array):\n",
    "        if value == cur_node.value:\n",
    "            self._delete(value, cur_node, array)\n",
    "        elif value < cur_node.value and cur_node.left_child is not None:\n",
    "            self._search_delete(value, cur_node.left_child, array)  # Write down the values of the children\n",
    "            if value == cur_node.left_child.value:  # Deleting node\n",
    "                del cur_node.left_child\n",
    "                cur_node.left_child = None\n",
    "                for i in array:  # Insert children of the deleted item back into the tree \n",
    "                    self.insert(i)\n",
    "        elif value > cur_node.value and cur_node.right_child is not None:\n",
    "            self._search_delete(value, cur_node.right_child, array) # Write down the values of the children\n",
    "            if value == cur_node.right_child.value:  # Deleting node\n",
    "                del cur_node.right_child\n",
    "                cur_node.right_child = None\n",
    "                for i in array:  # Insert children of the deleted item back into the tree \n",
    "                    self.insert(i)\n",
    "        else:  # If value isn't on the Tree\n",
    "            print(\"There is no \" + str(value) + \" to delete\")\n",
    "    \n",
    "\n",
    "    def _delete(self, value, cur_node, array):  # Deleting children of main element to delete\n",
    "        if cur_node.left_child is not None:\n",
    "            self._delete(value, cur_node.left_child, array)\n",
    "            del cur_node.left_child\n",
    "            cur_node.left_child = None\n",
    "        if cur_node.right_child is not None:\n",
    "            self._delete(value, cur_node.right_child, array)\n",
    "            del cur_node.right_child\n",
    "            cur_node.right_child = None\n",
    "        if value != cur_node.value:\n",
    "            array.append(cur_node.value)\n",
    "\n",
    "\n",
    "def fill_tree(tree, num_elems, min_int, max_int):\n",
    "    for i in range(num_elems):\n",
    "        cur_elem = random.randint(min_int, max_int)\n",
    "        tree.insert(cur_elem)\n",
    "    return tree\n",
    "\n",
    "\n",
    "tree = BinarySearchTree()\n"
   ]
  },
  {
   "source": [
    "### Сгенерировать дерево"
   ],
   "cell_type": "markdown",
   "metadata": {}
  },
  {
   "cell_type": "code",
   "execution_count": 11,
   "metadata": {},
   "outputs": [
    {
     "output_type": "display_data",
     "data": {
      "text/plain": "IntText(value=-10000, description='Min value: ')",
      "application/vnd.jupyter.widget-view+json": {
       "version_major": 2,
       "version_minor": 0,
       "model_id": "31ffac723ae8438786d73574fee90f38"
      }
     },
     "metadata": {}
    },
    {
     "output_type": "display_data",
     "data": {
      "text/plain": "IntText(value=100000, description='Max value: ')",
      "application/vnd.jupyter.widget-view+json": {
       "version_major": 2,
       "version_minor": 0,
       "model_id": "69e5afa260184dca906704e8fd2b9f75"
      }
     },
     "metadata": {}
    },
    {
     "output_type": "display_data",
     "data": {
      "text/plain": "IntText(value=500, description='Amount: ')",
      "application/vnd.jupyter.widget-view+json": {
       "version_major": 2,
       "version_minor": 0,
       "model_id": "d4009fd55e42480da590317eed698978"
      }
     },
     "metadata": {}
    },
    {
     "output_type": "stream",
     "name": "stdout",
     "text": [
      "Value 9213 is already in a tree!\nTree of 500 elements from -10000 to 100000 was created\n"
     ]
    }
   ],
   "source": [
    "display(user_min, user_max, user_num)\n",
    "tree = fill_tree(tree, user_num.value, user_min.value, user_max.value)\n",
    "print(\"Tree of \" + str(user_num.value) + \" elements from \" + str(user_min.value) + \" to \" + str(user_max.value) + \" was created\")"
   ]
  },
  {
   "source": [
    "### Вставить элемент в дерево"
   ],
   "cell_type": "markdown",
   "metadata": {}
  },
  {
   "cell_type": "code",
   "execution_count": 16,
   "metadata": {},
   "outputs": [
    {
     "output_type": "display_data",
     "data": {
      "text/plain": "IntText(value=0, description='Add value: ')",
      "application/vnd.jupyter.widget-view+json": {
       "version_major": 2,
       "version_minor": 0,
       "model_id": "01eb784a1c7044df821f6fc494c29731"
      }
     },
     "metadata": {}
    },
    {
     "output_type": "stream",
     "name": "stdout",
     "text": [
      "Value 0 is already in a tree!\nElement 0 was added to the tree\n"
     ]
    }
   ],
   "source": [
    "display(user_add)\n",
    "tree.insert(user_add.value)\n",
    "print(\"Element \" + str(user_add.value) + \" was added to the tree\")"
   ]
  },
  {
   "source": [
    "### Удалить элемент из дерева"
   ],
   "cell_type": "markdown",
   "metadata": {}
  },
  {
   "cell_type": "code",
   "execution_count": 19,
   "metadata": {},
   "outputs": [
    {
     "output_type": "display_data",
     "data": {
      "text/plain": "IntText(value=9213, description='Add value: ')",
      "application/vnd.jupyter.widget-view+json": {
       "version_major": 2,
       "version_minor": 0,
       "model_id": "01eb784a1c7044df821f6fc494c29731"
      }
     },
     "metadata": {}
    },
    {
     "output_type": "stream",
     "name": "stdout",
     "text": [
      "Element 9213 was deleted from the tree\n"
     ]
    }
   ],
   "source": [
    "display(user_add)\n",
    "tree.delete(user_add.value)\n",
    "print(\"Element \" + str(user_add.value) + \" was deleted from the tree\")"
   ]
  },
  {
   "source": [
    "### Поиск элемента в дереве"
   ],
   "cell_type": "markdown",
   "metadata": {}
  },
  {
   "cell_type": "code",
   "execution_count": 20,
   "metadata": {},
   "outputs": [
    {
     "output_type": "display_data",
     "data": {
      "text/plain": "IntText(value=9213, description='Find:')",
      "application/vnd.jupyter.widget-view+json": {
       "version_major": 2,
       "version_minor": 0,
       "model_id": "4cd5891ba09d4d4b9611c302bec9ebd9"
      }
     },
     "metadata": {}
    },
    {
     "output_type": "stream",
     "name": "stdout",
     "text": [
      "There is no 9213 in binary tree\n"
     ]
    }
   ],
   "source": [
    "display(user_binary_tree)\n",
    "found_num = tree.search(user_binary_tree.value)\n",
    "\n",
    "if found_num[0] == False:\n",
    "    print(\"Binary tree is empty\")\n",
    "elif found_num[-1] == False:\n",
    "    print(\"There is no \" + str(user_binary_tree.value) + \" in binary tree\")\n",
    "else:\n",
    "    found_to_print = \"\"\n",
    "    for i in found_num:\n",
    "        found_to_print += str(i) + \" -> \"\n",
    "    print(found_to_print[0:-4])"
   ]
  },
  {
   "source": [
    "## Задание №2\n",
    "## Простое рехэширование"
   ],
   "cell_type": "markdown",
   "metadata": {}
  },
  {
   "cell_type": "code",
   "execution_count": 1,
   "metadata": {},
   "outputs": [],
   "source": [
    "class Re_hash:\n",
    "    def __init__(self):\n",
    "        self.table = {}  # Initializing a dict to store hash keys and values \n",
    "\n",
    "\n",
    "    def insert(self, value):\n",
    "        hash_fun = value % 17\n",
    "        while True:\n",
    "            if hash_fun in self.table.keys():  # If collision\n",
    "                hash_fun += 1\n",
    "            else:\n",
    "                self.table[hash_fun] = value\n",
    "                return hash_fun\n",
    "    \n",
    "\n",
    "    def search(self, value):\n",
    "        hash_fun = value % 17\n",
    "        if hash_fun in self.table.keys():\n",
    "            while True:\n",
    "                count = 0\n",
    "                for i in self.table.items():\n",
    "                    count += 1\n",
    "                    if i[0] == hash_fun:\n",
    "                        if i[1] == value:\n",
    "                            return count\n",
    "                        else:  # If there can be a collision\n",
    "                            hash_fun += 1\n",
    "                return -1\n",
    "        else:\n",
    "            return -1\n",
    "    \n",
    "\n",
    "    def delete(self, value):\n",
    "        hash_fun = start_hash = value % 17\n",
    "        while True:\n",
    "            if hash_fun in self.table.keys():            \n",
    "                if self.table[hash_fun] == value:\n",
    "                    self.table.pop(hash_fun)\n",
    "                    print(\"Element \" + str(value) + \" was removed from list\")\n",
    "                    down_to_hash = hash_fun\n",
    "                    while True:\n",
    "                        hash_fun += 1\n",
    "                        if hash_fun in self.table.keys():\n",
    "                            if self.table[hash_fun] % 17 == start_hash:\n",
    "                                self.table[down_to_hash] = self.table[hash_fun]  # Change of positions if there was a collision \n",
    "                                down_to_hash = hash_fun\n",
    "                                self.table.pop(hash_fun)\n",
    "                        else:\n",
    "                            break\n",
    "                    break\n",
    "                else:\n",
    "                    hash_fun += 1\n",
    "            else:\n",
    "                print(\"There is no \" + str(value) + \" in the list!\")\n",
    "                break\n",
    "\n",
    "\n",
    "    def show(self):\n",
    "        for_pr = \"\"\n",
    "        for i in self.table.items():\n",
    "            for_pr += str(i[1]) + \" \"\n",
    "        return for_pr.strip()\n",
    "\n",
    "\n",
    "re_hash = Re_hash()"
   ]
  },
  {
   "source": [
    "### Сгенерировать значения"
   ],
   "cell_type": "markdown",
   "metadata": {}
  },
  {
   "cell_type": "code",
   "execution_count": 5,
   "metadata": {},
   "outputs": [
    {
     "output_type": "display_data",
     "data": {
      "text/plain": "IntText(value=50, description='Min value: ')",
      "application/vnd.jupyter.widget-view+json": {
       "version_major": 2,
       "version_minor": 0,
       "model_id": "213ed8d32f3342f194082e50a00b588a"
      }
     },
     "metadata": {}
    },
    {
     "output_type": "display_data",
     "data": {
      "text/plain": "IntText(value=1000, description='Max value: ')",
      "application/vnd.jupyter.widget-view+json": {
       "version_major": 2,
       "version_minor": 0,
       "model_id": "8db4e9aa02b74138bb425834186b3369"
      }
     },
     "metadata": {}
    },
    {
     "output_type": "display_data",
     "data": {
      "text/plain": "IntText(value=15, description='Amount: ')",
      "application/vnd.jupyter.widget-view+json": {
       "version_major": 2,
       "version_minor": 0,
       "model_id": "0a579b4fde664d3cb895893cfc3d371e"
      }
     },
     "metadata": {}
    },
    {
     "output_type": "stream",
     "name": "stdout",
     "text": [
      "List of 15 elements from 50 to 1000 was created\n"
     ]
    },
    {
     "output_type": "execute_result",
     "data": {
      "text/plain": [
       "'439 742 865 293 115 379 871 697 144 882 742 853 619 96 495'"
      ]
     },
     "metadata": {},
     "execution_count": 5
    }
   ],
   "source": [
    "def generate_to_re_hash(to_re_hash, min_value, max_value, num_value):\n",
    "    for i in range(num_value):\n",
    "        to_re_hash.insert(random.randint(min_value, max_value))\n",
    "\n",
    "\n",
    "display(user_min, user_max, user_num)\n",
    "re_hash = Re_hash()\n",
    "generate_to_re_hash(re_hash, user_min.value, user_max.value, user_num.value)\n",
    "print(\"List of \" + str(user_num.value) + \" elements from \" + str(user_min.value) + \" to \" + str(user_max.value) + \" was created\")\n",
    "re_hash.show()"
   ]
  },
  {
   "source": [
    "### Добавить значение"
   ],
   "cell_type": "markdown",
   "metadata": {}
  },
  {
   "cell_type": "code",
   "execution_count": 6,
   "metadata": {},
   "outputs": [
    {
     "output_type": "display_data",
     "data": {
      "text/plain": "IntText(value=0, description='Add value: ')",
      "application/vnd.jupyter.widget-view+json": {
       "version_major": 2,
       "version_minor": 0,
       "model_id": "fd2ded1ab1cf41cb96f9df60bc9dc8b1"
      }
     },
     "metadata": {}
    },
    {
     "output_type": "stream",
     "name": "stdout",
     "text": [
      "Element 0 was added to list\n"
     ]
    },
    {
     "output_type": "execute_result",
     "data": {
      "text/plain": [
       "'439 742 865 293 115 379 871 697 144 882 742 853 619 96 495 0'"
      ]
     },
     "metadata": {},
     "execution_count": 6
    }
   ],
   "source": [
    "display(user_add)\n",
    "re_hash.insert(user_add.value)\n",
    "print(\"Element \" + str(user_add.value) + \" was added to list\")\n",
    "re_hash.show()"
   ]
  },
  {
   "source": [
    "### Удалить значение"
   ],
   "cell_type": "markdown",
   "metadata": {}
  },
  {
   "cell_type": "code",
   "execution_count": 8,
   "metadata": {},
   "outputs": [
    {
     "output_type": "display_data",
     "data": {
      "text/plain": "IntText(value=0, description='Delete: ')",
      "application/vnd.jupyter.widget-view+json": {
       "version_major": 2,
       "version_minor": 0,
       "model_id": "1d1c441ce4664f7ea162c5dfe00c84f3"
      }
     },
     "metadata": {}
    },
    {
     "output_type": "stream",
     "name": "stdout",
     "text": [
      "There is no 0 in the list!\n"
     ]
    },
    {
     "output_type": "execute_result",
     "data": {
      "text/plain": [
       "'439 742 865 293 115 379 871 697 144 882 742 853 619 96 495'"
      ]
     },
     "metadata": {},
     "execution_count": 8
    }
   ],
   "source": [
    "display(user_delete)\n",
    "re_hash.delete(user_delete.value)\n",
    "re_hash.show()"
   ]
  },
  {
   "source": [
    "### Поиск элемента (Простое рехэширование)"
   ],
   "cell_type": "markdown",
   "metadata": {}
  },
  {
   "cell_type": "code",
   "execution_count": 10,
   "metadata": {},
   "outputs": [
    {
     "output_type": "display_data",
     "data": {
      "text/plain": "IntText(value=129, description='Find: ')",
      "application/vnd.jupyter.widget-view+json": {
       "version_major": 2,
       "version_minor": 0,
       "model_id": "eb528627df71427293abbd6817bfb25f"
      }
     },
     "metadata": {}
    },
    {
     "output_type": "stream",
     "name": "stdout",
     "text": [
      "Element 129 was found at 2\nTime: 0.0 s\n"
     ]
    }
   ],
   "source": [
    "display(user_re_hash)\n",
    "time_start = time.monotonic()\n",
    "finded_re_hash = re_hash.search(user_re_hash.value)\n",
    "time_stop = time.monotonic() - time_start\n",
    "if finded_re_hash == -1:\n",
    "    print(\"Element {0} wasn't found\".format(str(user_re_hash.value)))\n",
    "else:\n",
    "    print(\"Element {0} was found at {1}\".format(str(user_re_hash.value), str(finded_re_hash)))\n",
    "print(\"Time: {0} s\".format(time_stop))"
   ]
  },
  {
   "source": [
    "## Рехэширование с помощью псевдослучайных чисел\n"
   ],
   "cell_type": "markdown",
   "metadata": {}
  },
  {
   "cell_type": "code",
   "execution_count": 15,
   "metadata": {},
   "outputs": [],
   "source": [
    "class Random_hash:\n",
    "    def __init__(self):\n",
    "        self.table = {}\n",
    "        self.rand = [1, 2, 3, 4, 5, 6, 7, 8, 9, 10, 11, 12, 13, 14, 15, 16]\n",
    "        random.shuffle(self.rand)  # Randomization of sequence\n",
    "\n",
    "\n",
    "    def insert(self, value):\n",
    "        hash_fun = value % 17\n",
    "        while True:\n",
    "            count = 0\n",
    "            if hash_fun in self.table.keys():\n",
    "                hash_fun += self.rand[count % len(self.rand)]\n",
    "            else:\n",
    "                self.table[hash_fun] = value\n",
    "                return hash_fun\n",
    "    \n",
    "\n",
    "    def search(self, value):\n",
    "        hash_fun = value % 17\n",
    "        if hash_fun in self.table.keys():\n",
    "            return self._search(hash_fun, value)\n",
    "        else:\n",
    "            return -1\n",
    "    \n",
    "\n",
    "    def _search(self, hash_fun, value):\n",
    "        rand_count = count = 0\n",
    "        for i in self.table.items():\n",
    "            count += 1\n",
    "            if i[0] == hash_fun:\n",
    "                if i[1] == value:\n",
    "                    return count\n",
    "                else:  # If there can be a collision\n",
    "                    hash_fun += self.rand[rand_count % len(self.rand)]  \n",
    "                    if hash_fun in self.table.keys():\n",
    "                        return self._search(hash_fun, value)\n",
    "                    else:\n",
    "                        return -1\n",
    "    \n",
    "\n",
    "    def delete(self, value):\n",
    "        hash_fun = start_hash = value % 17\n",
    "        while True:\n",
    "            count = 0\n",
    "            if hash_fun in self.table.keys():            \n",
    "                if self.table[hash_fun] == value:\n",
    "                    self.table.pop(hash_fun)\n",
    "                    print(\"Element \" + str(value) + \" was removed from list\")\n",
    "                    down_to_hash = hash_fun\n",
    "                    i = 0\n",
    "                    while True:\n",
    "                        hash_fun += self.rand[i]\n",
    "                        if hash_fun in self.table.keys():  # Change of positions if there was a collision\n",
    "                            if self.table[hash_fun] % 17 == start_hash:\n",
    "                                self.table[down_to_hash] = self.table[hash_fun]\n",
    "                                down_to_hash = hash_fun\n",
    "                                self.table.pop(hash_fun)\n",
    "                            i += 1\n",
    "                        else:\n",
    "                            break\n",
    "                    break\n",
    "                else:\n",
    "                    hash_fun += self.rand[count % len(self.rand)]  # Searching of element\n",
    "                    count += 1\n",
    "            else:\n",
    "                print(\"There is no \" + str(value) + \" in the list!\")\n",
    "                break\n",
    "\n",
    "\n",
    "    def show(self):\n",
    "        for_pr = \"\"\n",
    "        for i in self.table.items():\n",
    "            for_pr += str(i[1]) + \" \"\n",
    "        return for_pr.strip()\n",
    "\n",
    "\n",
    "random_hash = Random_hash()"
   ]
  },
  {
   "source": [
    "### Сгенерировать значения"
   ],
   "cell_type": "markdown",
   "metadata": {}
  },
  {
   "cell_type": "code",
   "execution_count": 16,
   "metadata": {},
   "outputs": [
    {
     "output_type": "display_data",
     "data": {
      "text/plain": "IntText(value=150, description='Min value: ')",
      "application/vnd.jupyter.widget-view+json": {
       "version_major": 2,
       "version_minor": 0,
       "model_id": "5e7079a01e554edd8a7d6bb7e51d0492"
      }
     },
     "metadata": {}
    },
    {
     "output_type": "display_data",
     "data": {
      "text/plain": "IntText(value=750, description='Max value: ')",
      "application/vnd.jupyter.widget-view+json": {
       "version_major": 2,
       "version_minor": 0,
       "model_id": "a36b65692a28420d813095848ae6cac2"
      }
     },
     "metadata": {}
    },
    {
     "output_type": "display_data",
     "data": {
      "text/plain": "IntText(value=15, description='Amount: ')",
      "application/vnd.jupyter.widget-view+json": {
       "version_major": 2,
       "version_minor": 0,
       "model_id": "b0d054b79f534436bcf411d426e63b07"
      }
     },
     "metadata": {}
    },
    {
     "output_type": "stream",
     "name": "stdout",
     "text": [
      "List of 15 elements from 150 to 750 was created\n"
     ]
    },
    {
     "output_type": "execute_result",
     "data": {
      "text/plain": [
       "'615 326 334 227 467 549 680 414 619 173 364 193 681 213 258'"
      ]
     },
     "metadata": {},
     "execution_count": 16
    }
   ],
   "source": [
    "def generate_to_random_hash(to_random_hash, min_value, max_value, num_value):\n",
    "    for i in range(num_value):\n",
    "        to_random_hash.insert(random.randint(min_value, max_value))\n",
    "\n",
    "\n",
    "display(user_min, user_max, user_num)\n",
    "random_hash = Random_hash()\n",
    "generate_to_random_hash(random_hash, user_min.value, user_max.value, user_num.value)\n",
    "print(\"List of \" + str(user_num.value) + \" elements from \" + str(user_min.value) + \" to \" + str(user_max.value) + \" was created\")\n",
    "random_hash.show()"
   ]
  },
  {
   "source": [
    "### Добавить значение"
   ],
   "cell_type": "markdown",
   "metadata": {}
  },
  {
   "cell_type": "code",
   "execution_count": 17,
   "metadata": {},
   "outputs": [
    {
     "output_type": "display_data",
     "data": {
      "text/plain": "IntText(value=0, description='Add value: ')",
      "application/vnd.jupyter.widget-view+json": {
       "version_major": 2,
       "version_minor": 0,
       "model_id": "3dc641e3644147199be91ad8677bf1e3"
      }
     },
     "metadata": {}
    },
    {
     "output_type": "stream",
     "name": "stdout",
     "text": [
      "Element 0 was added to list\n"
     ]
    },
    {
     "output_type": "execute_result",
     "data": {
      "text/plain": [
       "'615 326 334 227 467 549 680 414 619 173 364 193 681 213 258 0'"
      ]
     },
     "metadata": {},
     "execution_count": 17
    }
   ],
   "source": [
    "display(user_add)\n",
    "random_hash.insert(user_add.value)\n",
    "print(\"Element \" + str(user_add.value) + \" was added to list\")\n",
    "random_hash.show()"
   ]
  },
  {
   "source": [
    "### Удалить значение"
   ],
   "cell_type": "markdown",
   "metadata": {}
  },
  {
   "cell_type": "code",
   "execution_count": 18,
   "metadata": {},
   "outputs": [
    {
     "output_type": "display_data",
     "data": {
      "text/plain": "IntText(value=0, description='Delete: ')",
      "application/vnd.jupyter.widget-view+json": {
       "version_major": 2,
       "version_minor": 0,
       "model_id": "ca8cd088a98140ba97b087f2e8b1c9bc"
      }
     },
     "metadata": {}
    },
    {
     "output_type": "stream",
     "name": "stdout",
     "text": [
      "Element 0 was removed from list\n"
     ]
    },
    {
     "output_type": "execute_result",
     "data": {
      "text/plain": [
       "'615 326 334 227 467 549 680 414 619 173 364 193 681 213 258'"
      ]
     },
     "metadata": {},
     "execution_count": 18
    }
   ],
   "source": [
    "display(user_delete)\n",
    "random_hash.delete(user_delete.value)\n",
    "random_hash.show()"
   ]
  },
  {
   "source": [
    "### Поиск элемента (Рехэширование с помощью псевдослучайных чисел)"
   ],
   "cell_type": "markdown",
   "metadata": {}
  },
  {
   "cell_type": "code",
   "execution_count": 20,
   "metadata": {},
   "outputs": [
    {
     "output_type": "display_data",
     "data": {
      "text/plain": "IntText(value=334, description='Find: ')",
      "application/vnd.jupyter.widget-view+json": {
       "version_major": 2,
       "version_minor": 0,
       "model_id": "94d2a9a1c6d84d82aa6c189388313f7d"
      }
     },
     "metadata": {}
    },
    {
     "output_type": "stream",
     "name": "stdout",
     "text": [
      "Element 334 was found at 3\nTime: 0.0 s\n"
     ]
    }
   ],
   "source": [
    "display(user_random_hash)\n",
    "time_start = time.monotonic()\n",
    "finded_random_hash = random_hash.search(user_random_hash.value)\n",
    "time_stop = time.monotonic() - time_start\n",
    "if finded_random_hash == -1:\n",
    "    print(\"Element {0} wasn't found\".format(str(user_random_hash.value)))\n",
    "else:\n",
    "    print(\"Element {0} was found at {1}\".format(str(user_random_hash.value), str(finded_random_hash)))\n",
    "print(\"Time: {0} s\".format(time_stop))"
   ]
  },
  {
   "source": [
    "## Метод цепочек"
   ],
   "cell_type": "markdown",
   "metadata": {}
  },
  {
   "cell_type": "code",
   "execution_count": 21,
   "metadata": {},
   "outputs": [],
   "source": [
    "class Chain_hash:\n",
    "    def __init__(self):\n",
    "        self.table = {}\n",
    "        self.count = 0\n",
    "\n",
    "\n",
    "    def insert(self, value):\n",
    "        hash_fun = value % 17\n",
    "        new_elem = [value, self.count]\n",
    "        if hash_fun in self.table.keys():\n",
    "            self.table[hash_fun].append(new_elem)\n",
    "        else:\n",
    "            self.table[hash_fun] = [new_elem]\n",
    "        self.count += 1\n",
    "    \n",
    "\n",
    "    def search(self, value):\n",
    "        hash_fun = value % 17\n",
    "        if hash_fun in self.table.keys():\n",
    "            for i in self.table[hash_fun]:\n",
    "                if i[0] == value:\n",
    "                    return i[1]\n",
    "            return -1\n",
    "        else:\n",
    "            return -1\n",
    "    \n",
    "\n",
    "    def delete(self, value):\n",
    "        hash_fun = value % 17\n",
    "        if hash_fun in self.table.keys():  \n",
    "            for i in self.table[hash_fun]:\n",
    "                if i[0] == value:\n",
    "                    self.table[hash_fun].remove(i)\n",
    "                    print(\"Element \" + str(value) + \" was removed from list\")\n",
    "                    self.count -= 1\n",
    "                    for j in self.table.keys():\n",
    "                        for k in self.table[j]:\n",
    "                            if k[1] > i[1]:\n",
    "                                k[1] -= 1\n",
    "                    break\n",
    "        else:\n",
    "            print(\"There is no \" + str(value) + \" in the list!\")\n",
    "    \n",
    "\n",
    "    def show(self):\n",
    "        step = 0\n",
    "        res = ''\n",
    "        while step < self.count:\n",
    "            for i in self.table.values():\n",
    "                for j in range(len(i)):\n",
    "                    if i[j][1] == step and step < self.count:\n",
    "                        res += str(i[j][0]) + ' '\n",
    "                        step += 1\n",
    "        print(res.strip())"
   ]
  },
  {
   "source": [
    "### Сгенерировать значения"
   ],
   "cell_type": "markdown",
   "metadata": {}
  },
  {
   "cell_type": "code",
   "execution_count": 23,
   "metadata": {},
   "outputs": [
    {
     "output_type": "display_data",
     "data": {
      "text/plain": "IntText(value=-10, description='Min value: ')",
      "application/vnd.jupyter.widget-view+json": {
       "version_major": 2,
       "version_minor": 0,
       "model_id": "31ffac723ae8438786d73574fee90f38"
      }
     },
     "metadata": {}
    },
    {
     "output_type": "display_data",
     "data": {
      "text/plain": "IntText(value=1000, description='Max value: ')",
      "application/vnd.jupyter.widget-view+json": {
       "version_major": 2,
       "version_minor": 0,
       "model_id": "69e5afa260184dca906704e8fd2b9f75"
      }
     },
     "metadata": {}
    },
    {
     "output_type": "display_data",
     "data": {
      "text/plain": "IntText(value=20, description='Amount: ')",
      "application/vnd.jupyter.widget-view+json": {
       "version_major": 2,
       "version_minor": 0,
       "model_id": "d4009fd55e42480da590317eed698978"
      }
     },
     "metadata": {}
    },
    {
     "output_type": "stream",
     "name": "stdout",
     "text": [
      "List of 20 elements from -10 to 1000 was created\n123 577 807 131 448 870 260 738 419 379 681 295 649 867 649 315 276 35 524 368\n"
     ]
    }
   ],
   "source": [
    "def generate_to_chain_hash(to_chain_hash, min_value, max_value, num_value):\n",
    "    for i in range(num_value):\n",
    "        to_chain_hash.insert(random.randint(min_value, max_value))\n",
    "\n",
    "\n",
    "display(user_min, user_max, user_num)\n",
    "chain_hash = Chain_hash()\n",
    "generate_to_chain_hash(chain_hash, user_min.value, user_max.value, user_num.value)\n",
    "print(\"List of \" + str(user_num.value) + \" elements from \" + str(user_min.value) + \" to \" + str(user_max.value) + \" was created\")\n",
    "chain_hash.show()"
   ]
  },
  {
   "source": [
    "### Добавить значение"
   ],
   "cell_type": "markdown",
   "metadata": {}
  },
  {
   "cell_type": "code",
   "execution_count": 26,
   "metadata": {},
   "outputs": [
    {
     "output_type": "display_data",
     "data": {
      "text/plain": "IntText(value=56, description='Add value: ')",
      "application/vnd.jupyter.widget-view+json": {
       "version_major": 2,
       "version_minor": 0,
       "model_id": "01eb784a1c7044df821f6fc494c29731"
      }
     },
     "metadata": {}
    },
    {
     "output_type": "stream",
     "name": "stdout",
     "text": [
      "Element 56 was added to list\n123 577 807 131 448 870 260 738 419 379 681 295 649 867 649 315 276 35 524 368 9213 56\n"
     ]
    }
   ],
   "source": [
    "display(user_add)\n",
    "chain_hash.insert(user_add.value)\n",
    "print(\"Element \" + str(user_add.value) + \" was added to list\")\n",
    "chain_hash.show()"
   ]
  },
  {
   "source": [
    "### Удалить значение"
   ],
   "cell_type": "markdown",
   "metadata": {}
  },
  {
   "cell_type": "code",
   "execution_count": 29,
   "metadata": {},
   "outputs": [
    {
     "output_type": "display_data",
     "data": {
      "text/plain": "IntText(value=368, description='Delete: ')",
      "application/vnd.jupyter.widget-view+json": {
       "version_major": 2,
       "version_minor": 0,
       "model_id": "1526616719d24f408afadeb60d48315d"
      }
     },
     "metadata": {}
    },
    {
     "output_type": "stream",
     "name": "stdout",
     "text": [
      "Element 368 was removed from list\n123 577 807 131 448 870 260 738 419 379 681 295 649 867 649 315 276 35 524 9213 56\n"
     ]
    }
   ],
   "source": [
    "display(user_delete)\n",
    "chain_hash.delete(user_delete.value)\n",
    "chain_hash.show()"
   ]
  },
  {
   "source": [
    "### Поиск элемента (Метод цепочек)"
   ],
   "cell_type": "markdown",
   "metadata": {}
  },
  {
   "cell_type": "code",
   "execution_count": 30,
   "metadata": {},
   "outputs": [
    {
     "output_type": "display_data",
     "data": {
      "text/plain": "IntText(value=9213, description='Find: ')",
      "application/vnd.jupyter.widget-view+json": {
       "version_major": 2,
       "version_minor": 0,
       "model_id": "e0213257fb3f4b6ebd66b0031a60c057"
      }
     },
     "metadata": {}
    },
    {
     "output_type": "stream",
     "name": "stdout",
     "text": [
      "Element 9213 was found at 20\nTime: 0.0 s\n"
     ]
    }
   ],
   "source": [
    "display(user_chain_hash)\n",
    "time_start = time.monotonic()\n",
    "finded_chain_hash = chain_hash.search(user_chain_hash.value) + 1\n",
    "time_stop = time.monotonic() - time_start\n",
    "if finded_chain_hash == -1:\n",
    "    print(\"Element {0} wasn't found\".format(str(user_chain_hash.value)))\n",
    "else:\n",
    "    print(\"Element {0} was found at {1}\".format(str(user_chain_hash.value), str(finded_chain_hash)))\n",
    "print(\"Time: {0} s\".format(time_stop))"
   ]
  },
  {
   "source": [
    "## Задание №3"
   ],
   "cell_type": "markdown",
   "metadata": {}
  },
  {
   "cell_type": "code",
   "execution_count": 31,
   "metadata": {},
   "outputs": [
    {
     "output_type": "stream",
     "name": "stdout",
     "text": [
      "+ + X + + + + +\n+ + + + X + + +\n+ + + + + + + X\n+ + + X + + + +\nX + + + + + + +\n+ + + + + + X +\n+ X + + + + + +\n+ + + + + X + +\n"
     ]
    }
   ],
   "source": [
    "def check(b):\n",
    "    count = 0\n",
    "    for i in range(8):\n",
    "        for j in range(8):\n",
    "            if b[i][j] == True:\n",
    "                count += 1\n",
    "    return count == 8\n",
    "\n",
    "\n",
    "def regenerate():\n",
    "    global board\n",
    "    board = [[None] * 8 for i in range(8)]  # None = empty, True = figure, False = position under attack\n",
    "\n",
    "    global free_cells  # List with free positions\n",
    "    free_cells = []\n",
    "    for i in range(8):\n",
    "        for j in range(8):\n",
    "            free_cells.append([i, j])\n",
    "\n",
    "\n",
    "regenerate()\n",
    "\n",
    "while not check(board):\n",
    "    for i in range(8):  \n",
    "        pre_board = board\n",
    "        pre_cells = free_cells\n",
    "        try:\n",
    "            next_step = random.choice(free_cells)\n",
    "            x, y = next_step[0], next_step[1]\n",
    "            c = True\n",
    "            for k in range(8):\n",
    "                if board[k][y] is None:\n",
    "                    board[k][y] = False\n",
    "                    temp = [k, y]\n",
    "                    free_cells.remove(temp)\n",
    "                elif board[k][y] == True:\n",
    "                    c = False; break\n",
    "                if board[x][k] is None:\n",
    "                    board[x][k] = False\n",
    "                    free_cells.remove([x, k])\n",
    "                elif board[x][k] == True:\n",
    "                    c = False; break\n",
    "                if 0 <= x - k < 8 and 0 <= y + k < 8:\n",
    "                    if board[x - k][y + k] is None:\n",
    "                        board[x - k][y + k] = False\n",
    "                        free_cells.remove([x - k, y + k])\n",
    "                    if board[x - k][y + k] == True:\n",
    "                        c = False; break\n",
    "                if 0 <= x + k < 8 and 0 <= y - k < 8:\n",
    "                    if board[x + k][y - k] is None:\n",
    "                        board[x + k][y - k] = False\n",
    "                        free_cells.remove([x + k, y - k])\n",
    "                    if board[x + k][y - k] == True:\n",
    "                        c = False; break\n",
    "                if 0 <= x + k < 8 and 0 <= y + k < 8:\n",
    "                    if board[x + k][y + k] is None:\n",
    "                        board[x + k][y + k] = False\n",
    "                        free_cells.remove([x + k, y + k])\n",
    "                    if board[x + k][y + k] == True:\n",
    "                        c = False; break\n",
    "                if 0 <= x - k < 8 and 0 <= y - k < 8:\n",
    "                    if board[x-k][y-k] is None:\n",
    "                        board[x-k][y-k] = False\n",
    "                        free_cells.remove([x - k, y - k])\n",
    "                    if board[x-k][y-k] == True:\n",
    "                        c = False; break\n",
    "            board[x][y] = True\n",
    "            if not c:\n",
    "                board = pre_board\n",
    "                free_cells = pre_cells\n",
    "        except IndexError:\n",
    "            regenerate()\n",
    "\n",
    "for i in range(8):\n",
    "    for j in range(8):\n",
    "        if board[i][j] == True:\n",
    "            board[i][j] = 'X'  # Position with figure\n",
    "        else:\n",
    "            board[i][j] = '+'  # Empty position\n",
    "for i in range(8):\n",
    "    p0 = board[i][0]\n",
    "    p1 = board[i][1]\n",
    "    p2 = board[i][2]\n",
    "    p3 = board[i][3]\n",
    "    p4 = board[i][4]\n",
    "    p5 = board[i][5]\n",
    "    p6 = board[i][6]\n",
    "    p7 = board[i][7]\n",
    "    print(\"{0} {1} {2} {3} {4} {5} {6} {7}\".format(p0, p1, p2, p3, p4, p5, p6, p7))"
   ]
  },
  {
   "source": [
    "## Вывод\n",
    "\n",
    "В процессе выполнения данной лабораторной работы, я реализовал такие методы поиска, как бинарный, фибоначчиев и интерполяционный. Также, мной была реализована такая структура данных, как бинарное дерево. Для каждого из методов реализован пользовательский ввод, удаление элемента и поиск. Также была реализована хэш-таблица с разными решениями возникающих коллизий: простое рехэширование, рехэширование с помощью псевдослучайных чисел, метод цепочек. Для каждого метода реалзован свой класс с пользовательским добавлением элемента, удалением и поиска по индексу."
   ],
   "cell_type": "markdown",
   "metadata": {}
  }
 ]
}