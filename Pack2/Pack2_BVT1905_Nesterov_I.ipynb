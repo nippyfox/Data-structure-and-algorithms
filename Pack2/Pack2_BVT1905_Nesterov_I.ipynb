{
 "metadata": {
  "language_info": {
   "codemirror_mode": {
    "name": "ipython",
    "version": 3
   },
   "file_extension": ".py",
   "mimetype": "text/x-python",
   "name": "python",
   "nbconvert_exporter": "python",
   "pygments_lexer": "ipython3",
   "version": "3.9.2"
  },
  "orig_nbformat": 2,
  "kernelspec": {
   "name": "python392jvsc74a57bd00d008810b9c8467bcb3ca39aa2180e5b81b3a9acb136aab30d47954377cc5120",
   "display_name": "Python 3.9.2 64-bit"
  },
  "metadata": {
   "interpreter": {
    "hash": "0d008810b9c8467bcb3ca39aa2180e5b81b3a9acb136aab30d47954377cc5120"
   }
  }
 },
 "nbformat": 4,
 "nbformat_minor": 2,
 "cells": [
  {
   "source": [
    "# Пак задач №2\n",
    "## Выполнил студент БВТ1905 Нестеров Юрий"
   ],
   "cell_type": "markdown",
   "metadata": {}
  },
  {
   "cell_type": "code",
   "execution_count": 1,
   "metadata": {},
   "outputs": [],
   "source": [
    "import ipywidgets as wg\n",
    "\n",
    "user_first = wg.Text(value='', description=\"Введите массив чисел: \", disabled=False)\n",
    "user_second = wg.Text(value='', description=\"Введите массив чисел: \", disabled=False)"
   ]
  },
  {
   "source": [
    "### Задача 1\n",
    "\n",
    "Массив A состоит из целых положительных чисел ­ длин отрезков. Составьте из трех отрезков такой треугольник, чтобы его периметр был максимально возможным. Если невозможно составить треугольник с положительной площадью ­функция возвращает 0."
   ],
   "cell_type": "markdown",
   "metadata": {}
  },
  {
   "cell_type": "code",
   "execution_count": 18,
   "metadata": {},
   "outputs": [
    {
     "output_type": "display_data",
     "data": {
      "text/plain": "Text(value='3 2 3 4', description='Введите массив чисел: ')",
      "application/vnd.jupyter.widget-view+json": {
       "version_major": 2,
       "version_minor": 0,
       "model_id": "2ec7583ea53b4f3f98a54463782b51a4"
      }
     },
     "metadata": {}
    },
    {
     "output_type": "stream",
     "name": "stdout",
     "text": [
      "10\n"
     ]
    }
   ],
   "source": [
    "display(user_first)\n",
    "\n",
    "try:\n",
    "    a = user_first.value.split()  # forming a list from an input line\n",
    "    for i in range(len(a)):\n",
    "        a[i] = int(a[i])\n",
    "    a.sort(reverse=True)\n",
    "    max_length = 0  # finding a max triangle\n",
    "    for i in range(len(a)):\n",
    "        for j in range(i + 1, len(a)):\n",
    "            for k in range(j + 1, len(a)):\n",
    "                if a[i] < a[j] + a[k]:\n",
    "                    max_length = max(max_length, a[i] + a[j] + a[k])\n",
    "    print(max_length)\n",
    "except ValueError:\n",
    "    print(\"Введите корректные данные\")"
   ]
  },
  {
   "source": [
    "### Задача 2\n",
    "Дан массив неотрицательных целых чисел nums. Расположите их в таком порядке, чтобы вместе они образовали максимально возможное число."
   ],
   "cell_type": "markdown",
   "metadata": {}
  },
  {
   "cell_type": "code",
   "execution_count": 4,
   "metadata": {},
   "outputs": [
    {
     "output_type": "display_data",
     "data": {
      "text/plain": "Text(value='3 30 34 5 9', description='Введите массив чисел: ')",
      "application/vnd.jupyter.widget-view+json": {
       "version_major": 2,
       "version_minor": 0,
       "model_id": "c2125e1e430b4ea984ffb93a39ba538e"
      }
     },
     "metadata": {}
    },
    {
     "output_type": "stream",
     "name": "stdout",
     "text": [
      "9534330\n"
     ]
    }
   ],
   "source": [
    "display(user_second)\n",
    "\n",
    "\n",
    "def compare(got, cur):\n",
    "    for i in range(min(len(cur), len(got))):\n",
    "        if ord(cur[i]) > ord(got[i]):\n",
    "            return cur\n",
    "        elif ord(cur[i]) < ord(got[i]):\n",
    "            return got\n",
    "        else:\n",
    "            if i == min(len(cur), len(got)) - 1:\n",
    "                if len(cur) == len(got):\n",
    "                    return cur\n",
    "                if len(got) > len(cur):\n",
    "                    longer = got\n",
    "                    shorter = cur\n",
    "                else:\n",
    "                    longer = cur\n",
    "                    shorter = got\n",
    "                if ord(longer[i + 1]) <= ord(shorter[0]):\n",
    "                    return shorter\n",
    "                else:\n",
    "                    return longer\n",
    "\n",
    "\n",
    "try:\n",
    "    a = user_second.value.split()\n",
    "    res = ''\n",
    "    while len(a) > 0:\n",
    "        c = '0'\n",
    "        for i in a:\n",
    "            c = compare(i, c)\n",
    "        res += c\n",
    "        a.remove(c)\n",
    "    if len(res) > 1 and res[0] == '0':\n",
    "        print(\"Такого числа не существует\")\n",
    "    else:\n",
    "        print(res)\n",
    "except ValueError:\n",
    "    print(\"Введите корректные данные\")"
   ]
  },
  {
   "cell_type": "code",
   "execution_count": null,
   "metadata": {},
   "outputs": [],
   "source": []
  }
 ]
}