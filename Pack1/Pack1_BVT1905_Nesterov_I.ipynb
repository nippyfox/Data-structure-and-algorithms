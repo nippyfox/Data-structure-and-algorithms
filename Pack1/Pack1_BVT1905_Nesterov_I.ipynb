{
 "metadata": {
  "language_info": {
   "codemirror_mode": {
    "name": "ipython",
    "version": 3
   },
   "file_extension": ".py",
   "mimetype": "text/x-python",
   "name": "python",
   "nbconvert_exporter": "python",
   "pygments_lexer": "ipython3",
   "version": "3.9.2"
  },
  "orig_nbformat": 2,
  "kernelspec": {
   "name": "python392jvsc74a57bd00d008810b9c8467bcb3ca39aa2180e5b81b3a9acb136aab30d47954377cc5120",
   "display_name": "Python 3.9.2 64-bit"
  },
  "metadata": {
   "interpreter": {
    "hash": "0d008810b9c8467bcb3ca39aa2180e5b81b3a9acb136aab30d47954377cc5120"
   }
  }
 },
 "nbformat": 4,
 "nbformat_minor": 2,
 "cells": [
  {
   "source": [
    "# Пак задач №1\n",
    "## Выполнил студент БВТ1905 Нестеров Юрий\n",
    "### Задача 1\n",
    "В Тридевятом Царстве уже много лет как установилась конституционная монархия. В парламент Тридевятого царства входят 26 партий, обозначаемых строчными буквами английского алфавита от «a» до «z». Заседание парламента в соответствии с регламентом проходит по следующей схеме:\n",
    "\n",
    "* В начале заседания никаких законопроектов на повестке дня не стоит.\n",
    "\n",
    "* Любая партия (в том числе и та, которая внесла текущий законопроект) в любой момент времени может внести на обсуждение новый законопроект.\n",
    "\n",
    "* При вносе партией нового законопроекта обсуждение предыдущего приостанавливается и начинается обсуждение нового. После того, как парламентарии голосуют за новый законопроект, обсуждение законопроекта, прерванного им, продолжается.\n",
    "\n",
    "* Дискуссия по любому законопроекту обязана завершиться голосованием по этому законопроекту.\n",
    "\n",
    "* В конце заседания не должно остаться внесённых законопроектов, дискуссия по которым не завершена.\n",
    "\n",
    "Вам дана запись о событиях на сессии парламента. Каждое событие является либо внесением нового законопроекта, либо голосованием за какой-то законопроект, причём в обоих случаях известен номер партии, этот законопроект предложившей. События даны в том порядке, в котором они происходили. Проверьте, может ли данная запись о событиях соответствовать какому-либо заседанию, удовлетворяющему порядку проведения, описанному выше."
   ],
   "cell_type": "markdown",
   "metadata": {}
  },
  {
   "cell_type": "code",
   "execution_count": 2,
   "metadata": {},
   "outputs": [
    {
     "output_type": "stream",
     "name": "stdout",
     "text": [
      "Yes\n"
     ]
    }
   ],
   "source": [
    "array_add = [0] * 26  # List for introduced laws\n",
    "array_vote = [0] * 26  # List for a laws, that reviewed\n",
    "k = int(input())\n",
    "for i in range(k):\n",
    "    n = input().lower()\n",
    "    if \"add\" in n:  # Adding to list for introduced laws\n",
    "        array_add[ord(n[4]) - 97] += 1\n",
    "    if \"vote\" in n:  # Adding to list for reviewed laws\n",
    "        array_vote[ord(n[5]) - 97] += 1\n",
    "print(\"Yes\") if array_add == array_vote else print(\"No\")"
   ]
  },
  {
   "source": [
    "### Задача №2. Правильный подмногоугольник\n",
    "\n",
    "Задан правильный N-угольник. Требуется выбрать наименьшее количество его вершин, которые также образуют правильный многоугольник."
   ],
   "cell_type": "markdown",
   "metadata": {}
  },
  {
   "cell_type": "code",
   "execution_count": 6,
   "metadata": {},
   "outputs": [
    {
     "output_type": "stream",
     "name": "stdout",
     "text": [
      "3\n"
     ]
    }
   ],
   "source": [
    "n = int(input())\n",
    "flag = True\n",
    "i = 2\n",
    "if n % 3 == 0:\n",
    "    print(\"3\")\n",
    "elif n % 4 == 0:\n",
    "    print(\"4\")\n",
    "elif n % 2 == 0:\n",
    "    while i * i <= n:  # Find an odd least common divisor\n",
    "        if n % i == 0 and i % 2 != 0:\n",
    "            print(i)\n",
    "            flag = False\n",
    "            break\n",
    "        i += 1\n",
    "    if flag:\n",
    "        print(\"{0}\".format(n // 2))\n",
    "else:\n",
    "    while i * i <= n:  # Find a least common divisor\n",
    "        if n % i == 0:\n",
    "            print(i)\n",
    "            flag = False\n",
    "            break\n",
    "        i += 1\n",
    "    if flag:\n",
    "        print(n)\n"
   ]
  },
  {
   "source": [
    "### Задача №3\n",
    "На форуме, на котором обсуждаются задачи олимпиад по информатике, ввели следующий аналог капчи. Участнику выдаётся строка из N десятичных цифр (без ведущих нулей). В качестве ответа требуется ввести такое основание системы счисления B, что в этой системе счисления выданная запись будет соответствовать составному числу (назовем его D), а также число X, большее 1 и меньшее D, являющееся делителем D.\n",
    "\n",
    "При этом B и X не должны превосходить 109.\n",
    "\n",
    "По заданной строке десятичных цифр найдите любую пару чисел B и X, удовлетворяющую ограничениям, или ответьте, что решения в заданных ограничениях не существует."
   ],
   "cell_type": "markdown",
   "metadata": {}
  },
  {
   "cell_type": "code",
   "execution_count": 7,
   "metadata": {},
   "outputs": [
    {
     "output_type": "stream",
     "name": "stdout",
     "text": [
      "b = 14; x = 7\n"
     ]
    }
   ],
   "source": [
    "def prime(n):  # Checking for a prime number\n",
    "    d = 2\n",
    "    while n % d != 0:\n",
    "        d += 1\n",
    "    return d == n\n",
    "\n",
    "\n",
    "a = input()\n",
    "n = len(a)\n",
    "if n == 1 and prime(int(a)):\n",
    "    print(\"-1\")\n",
    "else:\n",
    "    x = None\n",
    "    for i in range(2, 16):  # Find the optimal number system \n",
    "        try:\n",
    "            if not prime(int(a, i)):  # Number must be composite\n",
    "                b = i\n",
    "                d = int(a, i)\n",
    "                for j in range(2, d):  # Find the divisor\n",
    "                    if d % j == 0:\n",
    "                        x = j\n",
    "                        break\n",
    "        except ValueError:\n",
    "            continue\n",
    "if x is None:\n",
    "    print(\"-1\")\n",
    "else:\n",
    "    print(\"b = {0}; x = {1}\".format(b, x))"
   ]
  }
 ]
}