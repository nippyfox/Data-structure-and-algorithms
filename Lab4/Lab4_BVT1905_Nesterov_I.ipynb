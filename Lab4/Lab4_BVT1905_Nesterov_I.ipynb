{
 "metadata": {
  "language_info": {
   "codemirror_mode": {
    "name": "ipython",
    "version": 3
   },
   "file_extension": ".py",
   "mimetype": "text/x-python",
   "name": "python",
   "nbconvert_exporter": "python",
   "pygments_lexer": "ipython3",
   "version": "3.9.2"
  },
  "orig_nbformat": 2,
  "kernelspec": {
   "name": "python392jvsc74a57bd00d008810b9c8467bcb3ca39aa2180e5b81b3a9acb136aab30d47954377cc5120",
   "display_name": "Python 3.9.2 64-bit"
  },
  "metadata": {
   "interpreter": {
    "hash": "0d008810b9c8467bcb3ca39aa2180e5b81b3a9acb136aab30d47954377cc5120"
   }
  }
 },
 "nbformat": 4,
 "nbformat_minor": 2,
 "cells": [
  {
   "source": [
    "# Лабораторная работа №4\n",
    "### Выполнил студент группы БВТ1905 Нестеров Юрий"
   ],
   "cell_type": "markdown",
   "metadata": {}
  },
  {
   "cell_type": "code",
   "execution_count": 3,
   "metadata": {},
   "outputs": [],
   "source": [
    "import copy\n",
    "import ipywidgets as wg\n",
    "import random\n",
    "\n",
    "user_string = wg.Textarea(value='', placeholder='', description='Write your string: ', disabled=False)  # User inputs in notebook"
   ]
  },
  {
   "source": [
    "## Stack"
   ],
   "cell_type": "markdown",
   "metadata": {}
  },
  {
   "cell_type": "code",
   "execution_count": 4,
   "metadata": {},
   "outputs": [],
   "source": [
    "class Stack:\n",
    "    def __init__(self, length):\n",
    "        self.list = [None] * length\n",
    "        self.count = 0\n",
    "        \n",
    "\n",
    "    def push(self, value):\n",
    "        if self.count + 1 > len(self.list): \n",
    "            return \"Overflow!\"\n",
    "        self.list[self.count] = value\n",
    "        self.count += 1\n",
    "        return \"Element \" + str(value) + \" was added to Stack!\"\n",
    "    \n",
    "\n",
    "    def peek(self):\n",
    "        value = self.list[self.count-1]\n",
    "        if value is None:\n",
    "            return \"Stack is empty!\"\n",
    "        else:\n",
    "            return str(value)\n",
    "\n",
    "\n",
    "    def pop(self):\n",
    "        if self.count - 1 >= 0:\n",
    "            value = self.list[self.count-1]\n",
    "            self.list[self.count-1] = None\n",
    "            self.count -= 1\n",
    "            if value is None:\n",
    "                return \"Stack is empty!\"\n",
    "            else:\n",
    "                return str(value)\n",
    "        else:\n",
    "            return \"Stack is empty!\"\n",
    "            \n",
    "\n",
    "    def is_empty(self):\n",
    "        return True if self.count == 0 else False\n",
    "    \n",
    "\n",
    "    def show(self):\n",
    "        res = ''\n",
    "        for i in self.list:\n",
    "            if i is not None:\n",
    "                res += str(i) + ' '\n",
    "        return res\n",
    "\n",
    "    def print(self):\n",
    "        print(\"Stack = \", self.list, \"len = \", self.count)"
   ]
  },
  {
   "source": [
    "## Deque"
   ],
   "cell_type": "markdown",
   "metadata": {}
  },
  {
   "cell_type": "code",
   "execution_count": 6,
   "metadata": {},
   "outputs": [],
   "source": [
    "class Deque(Stack):\n",
    "    def __init__(self, length):\n",
    "        Stack.__init__(self, length)\n",
    "    \n",
    "\n",
    "    def _move(self, direct):\n",
    "        if direct == 'back' and self.list[len(self.list) - 1] is None:\n",
    "            new_list = [None] * len(self.list)\n",
    "            j = 0\n",
    "            for i in range(len(self.list)):\n",
    "                if i >= len(self.list) - self.count:\n",
    "                    new_list[i] = self.list[j]\n",
    "                    j += 1\n",
    "            self.list = new_list.copy()\n",
    "        if direct == 'front' and self.list[0] is None:\n",
    "            new_list = [None] * len(self.list)\n",
    "            j = len(self.list) - self.count\n",
    "            for i in range(len(self.list)):\n",
    "                if j < len(self.list):\n",
    "                    new_list[i] = self.list[j]\n",
    "                    j += 1\n",
    "            self.list = new_list.copy()\n",
    "\n",
    "\n",
    "    def push(self, value):\n",
    "        Deque._move(self, 'front')\n",
    "        return Stack.push(self, value)\n",
    "    \n",
    "    \n",
    "    def pop(self):\n",
    "        Deque._move(self, 'front')\n",
    "        return Stack.pop(self)\n",
    "    \n",
    "    \n",
    "    def push_back(self, value):\n",
    "        if len(self.list) < 2:\n",
    "            return Stack.push(self, value)\n",
    "        if self.count + 1 > len(self.list):\n",
    "            return \"Overflow!\"\n",
    "        else:\n",
    "            Deque._move(self, 'back')\n",
    "            self.list[len(self.list) - self.count - 1] = value\n",
    "            self.count += 1\n",
    "            return \"Element \" + str(value) + \" was added!\"\n",
    "            \n",
    "    \n",
    "    def pop_back(self):\n",
    "        if len(self.list) - (self.count - 1) <= len(self.list):\n",
    "            Deque._move(self, 'back')\n",
    "            value = self.list[len(self.list) - self.count] \n",
    "            self.list[len(self.list) - self.count] = None\n",
    "            self.count -= 1\n",
    "            return str(value)\n",
    "        else:\n",
    "            return \"Is empty!\""
   ]
  },
  {
   "source": [
    "### Задание №1\n",
    "\n",
    "Отсортировать строки файла, содержащие названия книг, в алфавитном порядке с использованием двух деков."
   ],
   "cell_type": "markdown",
   "metadata": {}
  },
  {
   "cell_type": "code",
   "execution_count": 64,
   "metadata": {},
   "outputs": [
    {
     "output_type": "stream",
     "name": "stdout",
     "text": [
      "Отсортированные книги: \n1984, Джордж Оруэлл\n451° по Фаренгейту, Рэй Брэдбери \nАвтостопом по Галактике, Дуглас Адамс\nБегущий за ветром, Халед Хоссейни\nВеликий Гэтсби, Ф. С. Фицджеральд \nВластелин колец, Дж. Р. Р. Толкин\nГамлет, Уильям Шекспир \nГарри Поттер и философский камень, Джоан Роулинг\nГордость и предубеждение, Джейн Остен \nГроздья гнева, Джон Стейнбек \nДжейн Эйр, Шарлотта Бронте \nКнижный вор, Маркус Зузак \nНад пропастью во ржи, Джером Д. Сэлинджер \nНочь, Эли Визель\nО мышах и людях, Джон Стейнбек\nПаутина Шарлотты, Элвин Брукс Уайт\nПовелитель мух, Уильям Голдинг\nПовесть о двух городах, Чарльз Диккенс \nПриключения Гекльберри Финна, Марк Твен \nПрислуга, Кэтрин Стокетт\nРождественская история, Чарльз Диккенс \nСкладка времени, Мадлен Л’Энгль\nСкотный двор, Джордж Оруэлл\nУбить пересмешника, Харпер Ли\nУнесённые ветром, Маргарет Митчелл \n"
     ]
    }
   ],
   "source": [
    "def del_n(s):\n",
    "    pos = s.find('\\n')\n",
    "    if pos > -1:\n",
    "        return s[0:pos]\n",
    "    else:\n",
    "        return s\n",
    "\n",
    "def sort(deque_1, deque_2): \n",
    "    book = deque_1.pop()\n",
    "    last_book = book\n",
    "    deque_2.push(book)\n",
    "    \n",
    "    for i in range(len(books)-1):\n",
    "        for j in range(min(len(last_book),len(book))):\n",
    "            book = deque_1.pop()\n",
    "            if ord(last_book[j]) != ord(book[j]):\n",
    "                if ord(last_book[j]) < ord(book[j]):\n",
    "                    deque_2.push_back(book)\n",
    "                if ord(last_book[j]) > ord(book[j]):\n",
    "                    deque_2.push(book)\n",
    "                last_book = book\n",
    "                break\n",
    "            else:\n",
    "                deque_1.push(book)\n",
    "                \n",
    "    \n",
    "    check = True\n",
    "    book = deque_2.pop()\n",
    "    last_book = book\n",
    "    deque_1.push(book)\n",
    "    \n",
    "    for i in range(len(books)-1):\n",
    "        for j in range(min(len(last_book), len(book))):\n",
    "            book = deque_2.pop()\n",
    "            if ord(last_book[j]) != ord(book[j]):\n",
    "                if ord(last_book[j]) > ord(book[j]):\n",
    "                    check = False\n",
    "                deque_1.push_back(book)\n",
    "                last_book = book\n",
    "                break\n",
    "            else:\n",
    "                deque_2.push(book)\n",
    "        \n",
    "    if not check:\n",
    "        return sort(deque_1, deque_2)\n",
    "\n",
    "\n",
    "books = []\n",
    "f = open('cache/task1.txt', 'r', encoding='utf-8')\n",
    "for line in f:\n",
    "    books.append(del_n(line))\n",
    "f.close()\n",
    "    \n",
    "d1 = Deque(len(books))\n",
    "d2 = Deque(len(books))\n",
    "for book in range(len(books)):\n",
    "    d1.push(books[book])\n",
    "sort(d1,d2)\n",
    "\n",
    "print(\"Отсортированные книги: \")\n",
    "f = open('cache/task1.txt', 'w', encoding='utf-8')\n",
    "for i in range(d1.count):\n",
    "    next_book = d1.pop()\n",
    "    print(next_book, file=f)\n",
    "    print(next_book)\n",
    "f.close()"
   ]
  },
  {
   "source": [
    "### Задание №2"
   ],
   "cell_type": "markdown",
   "metadata": {}
  },
  {
   "cell_type": "code",
   "execution_count": 8,
   "metadata": {},
   "outputs": [],
   "source": [
    "alphabet = list('АаБбВвГгДдЕеЁёЖжЗзИиЙйКкЛлМмНнОоПпСсТтУуФфХхЦцЧчШшЩщЪъЫыЬьЭэЮюЯя-.?!)(,:\\\\\\'\"')\n",
    "random.shuffle(alphabet)\n",
    "alphabet = ''.join(alphabet)"
   ]
  },
  {
   "cell_type": "code",
   "execution_count": 10,
   "metadata": {},
   "outputs": [
    {
     "output_type": "display_data",
     "data": {
      "text/plain": "Textarea(value='Какая-то строка', description='Write your string: ', placeholder='')",
      "application/vnd.jupyter.widget-view+json": {
       "version_major": 2,
       "version_minor": 0,
       "model_id": "6f0fb006bb56466b86ed78fca0c4feb2"
      }
     },
     "metadata": {}
    },
    {
     "output_type": "stream",
     "name": "stdout",
     "text": [
      "Encrypted: кдёдьАЧВ йЧрВёд\nDecrypted: Какая-то строка\n"
     ]
    }
   ],
   "source": [
    "def encode(t,d):\n",
    "    t = list(t)\n",
    "    for i in range(len(t)):\n",
    "        for j in range(d.count):\n",
    "            c = d.pop()    \n",
    "            if c == t[i]:\n",
    "                d.push_back(c)\n",
    "                d.push_back(d.pop())\n",
    "                c = d.pop()\n",
    "                t[i] = c\n",
    "            d.push_back(c)\n",
    "    return ''.join(t)\n",
    "    \n",
    "\n",
    "def decode(t,d):\n",
    "    t = list(t)\n",
    "    for i in range(len(t)):\n",
    "        for j in range(d.count):\n",
    "            c = d.pop()\n",
    "            if c == t[i]:\n",
    "                d.push(c)\n",
    "                d.push(d.pop_back())\n",
    "                c = d.pop_back()\n",
    "                t[i] = c\n",
    "            d.push(c)\n",
    "    return ''.join(t)\n",
    "\n",
    "\n",
    "display(user_string)\n",
    "\n",
    "d = Deque(len(alphabet))\n",
    "[d.push(alphabet[i]) for i in range(len(alphabet))]\n",
    "\n",
    "print(\"Encrypted: {0}\".format(encode(user_string.value, d)))\n",
    "print(\"Decrypted: {0}\".format(decode(user_string.value, d)))"
   ]
  },
  {
   "source": [
    "### Задание №3"
   ],
   "cell_type": "markdown",
   "metadata": {}
  },
  {
   "cell_type": "code",
   "execution_count": 11,
   "metadata": {},
   "outputs": [
    {
     "output_type": "stream",
     "name": "stdout",
     "text": [
      "A\nStack =  [3, 2, 1] len =  3\n--- Перемещения ---\n\n A\nStack =  [3, 2, None] len =  2\nC\nStack =  ['1', None, None] len =  1\n\n A\nStack =  [3, None, None] len =  1\nB\nStack =  ['2', None, None] len =  1\n\n B\nStack =  ['2', '1', None] len =  2\nC\nStack =  [None, None, None] len =  0\n\n A\nStack =  [None, None, None] len =  0\nC\nStack =  ['3', None, None] len =  1\n\n A\nStack =  ['1', None, None] len =  1\nB\nStack =  ['2', None, None] len =  1\n\n B\nStack =  [None, None, None] len =  0\nC\nStack =  ['3', '2', None] len =  2\n\n A\nStack =  [None, None, None] len =  0\nC\nStack =  ['3', '2', '1'] len =  3\n--- Итог ---\nC\nStack =  ['3', '2', '1'] len =  3\n"
     ]
    }
   ],
   "source": [
    "disks = 3\n",
    "A = Stack(disks) \n",
    "B = Stack(disks) \n",
    "C = Stack(disks) \n",
    "\n",
    "for i in range(disks, 0, -1):\n",
    "    A.push(i)\n",
    "\n",
    "print('A')\n",
    "A.print()\n",
    "\n",
    "print('# Permutations:')\n",
    "\n",
    "def move(st1, st2, let1, let2):\n",
    "    if st1.count == 0 and st2.count > 0:\n",
    "        st1.push(st2.pop())\n",
    "    elif st1.count > 0 and st2.count == 0:\n",
    "        st2.push(st1.pop())\n",
    "    elif st1.peek() > st2.peek():\n",
    "        st1.push(st2.pop())\n",
    "    else:\n",
    "        st2.push(st1.pop())\n",
    "    \n",
    "    print('\\n',let1)\n",
    "    st1.print()\n",
    "    print(let2)\n",
    "    st2.print()\n",
    "\n",
    "if disks % 2 == 0:\n",
    "    while C.count != disks:\n",
    "        move(A, B, 'A', 'B')\n",
    "        move(A, C, 'A', 'C')\n",
    "        move(B, C, 'B', 'C')\n",
    "else:\n",
    "    while C.count != disks:\n",
    "        move(A, C, 'A', 'C')\n",
    "        if C.count == disks:\n",
    "            break\n",
    "        move(A, B, 'A', 'B')\n",
    "        move(B, C, 'B', 'C')\n",
    "\n",
    "print('# Result')\n",
    "print('C')\n",
    "C.print()"
   ]
  },
  {
   "source": [
    "### Задание №4"
   ],
   "cell_type": "markdown",
   "metadata": {}
  },
  {
   "cell_type": "code",
   "execution_count": 12,
   "metadata": {},
   "outputs": [
    {
     "output_type": "stream",
     "name": "stdout",
     "text": [
      "True\n"
     ]
    }
   ],
   "source": [
    "def brackets_check(s):\n",
    "    st = Stack(len(s))\n",
    "    for c in s:\n",
    "        if c == '(':\n",
    "            st.push(c)\n",
    "        if c == ')':\n",
    "            if st.is_empty():\n",
    "                return False\n",
    "            st.pop()\n",
    "    return st.is_empty()\n",
    "\n",
    "strings = []\n",
    "f = open('cache/task4.txt', 'r', encoding='utf-8')\n",
    "for line in f:\n",
    "    strings.append(del_n(line))\n",
    "f.close()\n",
    "strings = ''.join(strings)\n",
    "\n",
    "print(brackets_check(strings))"
   ]
  },
  {
   "source": [
    "### Задание №5"
   ],
   "cell_type": "markdown",
   "metadata": {}
  },
  {
   "cell_type": "code",
   "execution_count": 13,
   "metadata": {},
   "outputs": [
    {
     "output_type": "stream",
     "name": "stdout",
     "text": [
      "True\n"
     ]
    }
   ],
   "source": [
    "def brackets_check(s):\n",
    "    d = Deque(len(s))\n",
    "    for c in s:\n",
    "        if c == '[':\n",
    "            d.push(c)\n",
    "        if c == ']':\n",
    "            if d.is_empty():\n",
    "                return False\n",
    "            d.pop()\n",
    "    return d.is_empty()\n",
    "\n",
    "strings = []\n",
    "f = open('cache/task4.txt', 'r', encoding='utf-8')\n",
    "for line in f:\n",
    "    strings.append(del_n(line))\n",
    "f.close()\n",
    "strings = ''.join(strings)\n",
    "\n",
    "print(brackets_check(strings))"
   ]
  },
  {
   "source": [
    "### Задание №6"
   ],
   "cell_type": "markdown",
   "metadata": {}
  },
  {
   "cell_type": "code",
   "execution_count": 14,
   "metadata": {},
   "outputs": [
    {
     "output_type": "stream",
     "name": "stdout",
     "text": [
      "1980 1989 1991 \nЗадумка по реализации языка появилась в конце х годов а разработка его реализации началась в году сотрудником голландского института CWI Гвидо ван Россумом Для распределённой операционной системы Amoeba требовался расширяемый скриптовый язык и Гвидо начал разрабатывать Python на досуге позаимствовав некоторые наработки для языка ABC Гвидо участвовал в разработке этого языка ориентированного на обучение программированию В феврале года Гвидо опубликовал исходный текст в группе новостей altsources С самого начала Python проектировался как объектноориентированный язык\n\nНаличие дружелюбного отзывчивого сообщества пользователей считается наряду с дизайнерской интуицией Гвидо одним из факторов успеха Python Развитие языка происходит согласно чётко регламентированному процессу создания обсуждения отбора и реализации документов PEP англ Python Enhancement Proposal — предложений по развитию Python \n- , . , , ( , ). .. - . , , , . , , (. ) . \n"
     ]
    }
   ],
   "source": [
    "t = ''\n",
    "\n",
    "symbs = ''\n",
    "nums = ''\n",
    "lets = ''\n",
    "\n",
    "f = open('cache/task6.txt', encoding='utf-8')\n",
    "for line in f:\n",
    "    t += line\n",
    "f.close()\n",
    "\n",
    "st = Stack(len(t))\n",
    "for c in reversed(t):\n",
    "    st.push(c)\n",
    "\n",
    "for i in range(len(t)):\n",
    "    if ord(st.peek()) >= 48 and ord(st.peek()) < 58:  # if number\n",
    "        nums += st.pop()\n",
    "    elif ord(st.peek()) >= 33 and ord(st.peek()) < 48 or ord(st.peek()) >= 58 and ord(st.peek()) < 65:  # if special symbol\n",
    "        symbs += st.pop()\n",
    "    elif ord(st.peek()) == 32:  # ' '\n",
    "        if len(symbs)-1 > -1 and ord(symbs[len(symbs)-1]) != 32:\n",
    "            symbs += ' '\n",
    "        if len(nums)-1 > -1 and ord(nums[len(nums)-1]) != 32:\n",
    "            nums += ' '\n",
    "        if len(lets)-1 > -1 and ord(lets[len(lets)-1]) != 32:\n",
    "            lets += ' '\n",
    "        st.pop()\n",
    "    else:  # other symbols\n",
    "        lets += st.pop()\n",
    "        \n",
    "print(nums)\n",
    "print(lets)\n",
    "print(symbs)"
   ]
  },
  {
   "source": [
    "### Задание №7"
   ],
   "cell_type": "markdown",
   "metadata": {}
  },
  {
   "cell_type": "code",
   "execution_count": 63,
   "metadata": {},
   "outputs": [
    {
     "output_type": "stream",
     "name": "stdout",
     "text": [
      "Negative numbers: -23 -234 -12 \nPositive numbers: 49 239 29 1 293 123 929\n"
     ]
    }
   ],
   "source": [
    "t = ''\n",
    "\n",
    "pos = ''\n",
    "neg = ''\n",
    "\n",
    "f = open('cache/task7.txt', encoding='utf-8')\n",
    "for line in f:\n",
    "    t += line\n",
    "f.close()\n",
    "\n",
    "st = Stack(len(t))  # fill the stack in reverse order\n",
    "for c in reversed(t):\n",
    "    st.push(c)\n",
    "\n",
    "check_neg = False\n",
    "for i in range(len(t)):\n",
    "    if ord(st.peek()) == 32:  # ' '\n",
    "        check_neg = False\n",
    "        if len(pos)-1 > -1 and ord(pos[len(pos)-1]) != 32:\n",
    "            pos += ' '\n",
    "        if len(neg)-1 > -1 and ord(neg[len(neg)-1]) != 32:\n",
    "            neg += ' '\n",
    "        st.pop()\n",
    "    elif ord(st.peek()) == 45: # '-'\n",
    "        check_neg = True\n",
    "        neg += st.pop()\n",
    "    else:\n",
    "        if check_neg:\n",
    "            neg += st.pop()\n",
    "        else:\n",
    "            pos += st.pop()\n",
    "            \n",
    "print(\"Negative numbers:\", neg)\n",
    "print(\"Positive numbers:\", pos)"
   ]
  },
  {
   "source": [
    "### Задание №8"
   ],
   "cell_type": "markdown",
   "metadata": {}
  },
  {
   "cell_type": "code",
   "execution_count": 16,
   "metadata": {},
   "outputs": [
    {
     "output_type": "stream",
     "name": "stdout",
     "text": [
      "Развитие языка происходит согласно чётко регламентированному процессу создания, обсуждения, отбора и реализации документов PEP (англ. Python Enhancement Proposal) — предложений по развитию Python. \nНаличие дружелюбного, отзывчивого сообщества пользователей считается, наряду с дизайнерской интуицией Гвидо, одним из факторов успеха Python.\nС самого начала Python проектировался как объектно-ориентированный язык.\nВ феврале 1991 года Гвидо опубликовал исходный текст в группе новостей alt.sources.\nДля распределённой операционной системы Amoeba требовался расширяемый скриптовый язык, и Гвидо начал разрабатывать Python на досуге, позаимствовав некоторые наработки для языка ABC (Гвидо участвовал в разработке этого языка, ориентированного на обучение программированию).\nЗадумка по реализации языка появилась в конце 1980-х годов, а разработка его реализации началась в 1989 году сотрудником голландского института CWI Гвидо ван Россумом.\n"
     ]
    }
   ],
   "source": [
    "strings = []\n",
    "\n",
    "f = open('cache/task8.txt', encoding='utf-8')\n",
    "for line in f:\n",
    "    strings.append(del_n(line))\n",
    "f.close()\n",
    "\n",
    "s = Stack(len(strings))\n",
    "\n",
    "for i in range(len(strings)):\n",
    "    s.push(strings[i])\n",
    " \n",
    "f = open('cache/task8.txt', 'w', encoding='utf-8')\n",
    "for i in range(s.count):\n",
    "    line = s.pop()\n",
    "    print(line, file=f)\n",
    "    print(line)\n",
    "f.close()"
   ]
  },
  {
   "source": [
    "### Задание №9"
   ],
   "cell_type": "markdown",
   "metadata": {}
  },
  {
   "cell_type": "code",
   "execution_count": 23,
   "metadata": {},
   "outputs": [],
   "source": [
    "class findLg:\n",
    "    def __init__(self, s):\n",
    "        st = Stack(len(s))\n",
    "        for c in reversed(s):\n",
    "            st.push(c)\n",
    "        self.res = self._calculate(st)\n",
    "        \n",
    "    \n",
    "    def _calculate(self, st):\n",
    "        if (st.peek() == 'T'):\n",
    "            st.pop()\n",
    "            return True\n",
    "        elif (st.peek() == 'F'):\n",
    "            st.pop()\n",
    "            return False\n",
    "        elif (st.peek() == '('):  # brackets handling \n",
    "            st.pop()\n",
    "            \n",
    "            if (st.peek() == 'N'):\n",
    "                st.pop()\n",
    "                return not self._calculate(st)\n",
    "            else:\n",
    "                is_lg_and = False\n",
    "                is_lg_or = False\n",
    "                is_lg_xor = False\n",
    "\n",
    "                lg_left = self._calculate(st)\n",
    "                \n",
    "                if (st.peek() == ')'):\n",
    "                    st.pop()\n",
    "                   \n",
    "                if (st.peek() == 'A'):\n",
    "                    is_lg_and = True\n",
    "                elif (st.peek() == 'O'):\n",
    "                    is_lg_or = True\n",
    "                elif (st.peek() == 'X'):\n",
    "                    is_lg_xor = True\n",
    "                st.pop()\n",
    "\n",
    "                lg_right = self._calculate(st)\n",
    "                \n",
    "                if (is_lg_and):\n",
    "                    return lg_left == lg_right\n",
    "                elif (is_lg_xor):\n",
    "                    return lg_left != lg_right\n",
    "                elif (is_lg_or):\n",
    "                    return lg_left or lg_right"
   ]
  },
  {
   "cell_type": "code",
   "execution_count": 27,
   "metadata": {},
   "outputs": [
    {
     "output_type": "stream",
     "name": "stdout",
     "text": [
      "(N(TAF)) => True\n"
     ]
    }
   ],
   "source": [
    "f = open('cache/task9.txt', encoding='utf-8')\n",
    "for line in f:\n",
    "    res = findLg(del_n(line)).res\n",
    "    print('{0} => {1}'.format(del_n(line), res))\n",
    "f.close()"
   ]
  },
  {
   "source": [
    "### Задание №10"
   ],
   "cell_type": "markdown",
   "metadata": {}
  },
  {
   "cell_type": "code",
   "execution_count": 35,
   "metadata": {},
   "outputs": [],
   "source": [
    "class findNum:\n",
    "    def __init__(self, s):\n",
    "        st = Stack(len(s))\n",
    "        \n",
    "        for c in reversed(s):\n",
    "            st.push(c)\n",
    "        self.res = self._calculate(st)\n",
    "        \n",
    "    def _calculate(self, st):\n",
    "        if ord(st.peek()) >= 48 and ord(st.peek()) <= 57:  # if numbers\n",
    "            return int(st.pop())\n",
    "        \n",
    "        elif st.peek() == 'M':  # max\n",
    "            st.pop()\n",
    "            st.pop()\n",
    "            \n",
    "            left_num = self._calculate(st)\n",
    "            \n",
    "            if st.peek() == ')':\n",
    "                st.pop()\n",
    "                \n",
    "            st.pop() # if special symbols \n",
    "            \n",
    "            right_num = self._calculate(st)\n",
    "            \n",
    "            return max(left_num, right_num)\n",
    "        \n",
    "        elif st.peek() == 'N':  # mininmum\n",
    "            st.pop() \n",
    "            st.pop() \n",
    "            \n",
    "            left_num = self._calculate(st)\n",
    "            \n",
    "            if st.peek() == ')':\n",
    "                st.pop()\n",
    "                \n",
    "            st.pop() # if special symbols \n",
    "            \n",
    "            right_num = self._calculate(st)\n",
    "            \n",
    "            return min(left_num, right_num)"
   ]
  },
  {
   "cell_type": "code",
   "execution_count": 36,
   "metadata": {},
   "outputs": [
    {
     "output_type": "stream",
     "name": "stdout",
     "text": [
      "M(N(9,8),1) => 8\n"
     ]
    }
   ],
   "source": [
    "f = open('cache/task10.txt', encoding='utf-8')\n",
    "for line in f:\n",
    "    res = findNum(del_n(line)).res\n",
    "    print('{0} => {1}'.format(del_n(line), res))\n",
    "f.close()"
   ]
  },
  {
   "source": [
    "### Задание №11"
   ],
   "cell_type": "markdown",
   "metadata": {}
  },
  {
   "cell_type": "code",
   "execution_count": 61,
   "metadata": {},
   "outputs": [],
   "source": [
    "class chForm:\n",
    "    def __init__(self, s):\n",
    "        st = Stack(len(s))\n",
    "        for c in reversed(s):\n",
    "            st.push(c)\n",
    "        self.res = self._calculate(st)\n",
    "        \n",
    "    def _calculate(self, st):\n",
    "        if ord(st.peek()) >= 120 and ord(st.peek())<= 122: # 'x', 'y', 'z'\n",
    "            st.pop()\n",
    "            return True\n",
    "        \n",
    "        elif st.peek() == '(':\n",
    "            st.pop()\n",
    "            \n",
    "            left_form = self._calculate(st)\n",
    "            \n",
    "            if st.peek() == ')':\n",
    "                st.pop()\n",
    "            \n",
    "            st.pop()\n",
    "\n",
    "            if st.peek() != '-' and st.peek() != '+':\n",
    "                return False\n",
    "            else:\n",
    "                st.pop()\n",
    "            st.pop()\n",
    "            \n",
    "            right_form = self._calculate(st)\n",
    "            \n",
    "            if st.peek() == ')':\n",
    "                st.pop()\n",
    "            \n",
    "            if right_form == False or left_form == False:\n",
    "                return False\n",
    "            elif st.is_empty():\n",
    "                return True\n",
    "            \n",
    "        else:  # if symbol that shouldn't be \n",
    "            return False"
   ]
  },
  {
   "cell_type": "code",
   "execution_count": 62,
   "metadata": {},
   "outputs": [
    {
     "output_type": "stream",
     "name": "stdout",
     "text": [
      "(x + (y + z)) => True\n"
     ]
    }
   ],
   "source": [
    "f = open('cache/task11.txt', encoding='utf-8')\n",
    "for line in f:\n",
    "    res = chForm(del_n(line)).res\n",
    "    print('{0} => {1}'.format(del_n(line), res))\n",
    "f.close()"
   ]
  },
  {
   "source": [
    "## Вывод\n",
    "\n",
    "В процессе выполнения этой лабораторной работы, я реализовал такие методы хранения и обработки данных, как стек и двусторонняя очередь, а также обработал различные данные с помощью реализации стека и дека."
   ],
   "cell_type": "markdown",
   "metadata": {}
  }
 ]
}