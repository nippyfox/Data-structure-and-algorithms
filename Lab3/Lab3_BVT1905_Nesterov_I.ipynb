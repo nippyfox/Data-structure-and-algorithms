{
 "metadata": {
  "language_info": {
   "codemirror_mode": {
    "name": "ipython",
    "version": 3
   },
   "file_extension": ".py",
   "mimetype": "text/x-python",
   "name": "python",
   "nbconvert_exporter": "python",
   "pygments_lexer": "ipython3",
   "version": "3.9.2"
  },
  "orig_nbformat": 2,
  "kernelspec": {
   "name": "python392jvsc74a57bd00d008810b9c8467bcb3ca39aa2180e5b81b3a9acb136aab30d47954377cc5120",
   "display_name": "Python 3.9.2 64-bit"
  },
  "metadata": {
   "interpreter": {
    "hash": "0d008810b9c8467bcb3ca39aa2180e5b81b3a9acb136aab30d47954377cc5120"
   }
  }
 },
 "nbformat": 4,
 "nbformat_minor": 2,
 "cells": [
  {
   "source": [
    "# Лабораторная работа №3\n",
    "### Выполнил студент группы БВТ1905 Нестеров Юрий\n",
    "## Задание №1"
   ],
   "cell_type": "markdown",
   "metadata": {}
  },
  {
   "cell_type": "code",
   "execution_count": 2,
   "metadata": {},
   "outputs": [],
   "source": [
    "from termcolor2 import c\n",
    "import ipywidgets as wg\n",
    "import random\n",
    "import time\n",
    "\n",
    "\n",
    "user_string = wg.Textarea(value='', placeholder='', description='Введите строку: ', disabled=False)  # User inputs in notebook\n",
    "user_substring = wg.Text(value='', placeholder='', description='Введите подстроку: ', disabled=False)\n",
    "user_letter_case = wg.Checkbox(value=False, description=\"Учитывать регистр\", disabled=False, indent=False)"
   ]
  },
  {
   "source": [
    "### Стандартный алгоритм поиска подстроки в языке Python"
   ],
   "cell_type": "markdown",
   "metadata": {}
  },
  {
   "cell_type": "code",
   "execution_count": 11,
   "metadata": {},
   "outputs": [
    {
     "output_type": "display_data",
     "data": {
      "text/plain": "Textarea(value='', description='Введите строку: ', placeholder='')",
      "application/vnd.jupyter.widget-view+json": {
       "version_major": 2,
       "version_minor": 0,
       "model_id": "cd68e501f5b240cfb4979f302de27090"
      }
     },
     "metadata": {}
    },
    {
     "output_type": "display_data",
     "data": {
      "text/plain": "Text(value='', description='Введите подстроку: ', placeholder='')",
      "application/vnd.jupyter.widget-view+json": {
       "version_major": 2,
       "version_minor": 0,
       "model_id": "03a17a4476754f1293145f6f2c5f7fe8"
      }
     },
     "metadata": {}
    },
    {
     "output_type": "display_data",
     "data": {
      "text/plain": "Checkbox(value=False, description='Учитывать регистр', indent=False)",
      "application/vnd.jupyter.widget-view+json": {
       "version_major": 2,
       "version_minor": 0,
       "model_id": "46f03d934ab44b7eb7cde3d422b20bec"
      }
     },
     "metadata": {}
    },
    {
     "output_type": "stream",
     "name": "stdout",
     "text": [
      "0\nTime: 0.01599999999996271 s\n"
     ]
    }
   ],
   "source": [
    "def standart(sub, string, case):\n",
    "    let_str = string  # copying original string\n",
    "    if not case:\n",
    "        string = string.lower()  # decapitalize all capital letters for ignoring cases\n",
    "    return string.find(sub)\n",
    "\n",
    "\n",
    "display(user_string, user_substring, user_letter_case)\n",
    "time_start = time.monotonic()\n",
    "print(standart(user_substring.value, user_string.value, user_letter_case.value))\n",
    "time_stop = time.monotonic() - time_start\n",
    "print(\"Time: {0} s\".format(time_stop))"
   ]
  },
  {
   "source": [
    "### Алгоритм поиска Кнута-Морриса-Пратта"
   ],
   "cell_type": "markdown",
   "metadata": {}
  },
  {
   "cell_type": "code",
   "execution_count": 36,
   "metadata": {},
   "outputs": [
    {
     "output_type": "display_data",
     "data": {
      "text/plain": "Textarea(value='hoola-hoola girls like Hooligan hooligans', description='Введите строку: ', placeholder='')",
      "application/vnd.jupyter.widget-view+json": {
       "version_major": 2,
       "version_minor": 0,
       "model_id": "9416127ebfd847eca6d5a87a31ff763f"
      }
     },
     "metadata": {}
    },
    {
     "output_type": "display_data",
     "data": {
      "text/plain": "Text(value='hooligan', description='Введите подстроку: ', placeholder='')",
      "application/vnd.jupyter.widget-view+json": {
       "version_major": 2,
       "version_minor": 0,
       "model_id": "584d4bc34eec4aa083398a45a4b938ab"
      }
     },
     "metadata": {}
    },
    {
     "output_type": "display_data",
     "data": {
      "text/plain": "Checkbox(value=False, description='Учитывать регистр', indent=False)",
      "application/vnd.jupyter.widget-view+json": {
       "version_major": 2,
       "version_minor": 0,
       "model_id": "87ea8c4e534542af9c062fd6ca6e48e3"
      }
     },
     "metadata": {}
    },
    {
     "output_type": "stream",
     "name": "stdout",
     "text": [
      "hoola-hoola girls like \u001b[43mHooligan\u001b[0m hooligans\nhoola-hoola girls like Hooligan \u001b[43mhooligan\u001b[0ms\nTime: 0.01600000000325963 s\n"
     ]
    }
   ],
   "source": [
    "def reversed(str):  # additional function for line reversal\n",
    "    return str[::-1]\n",
    "\n",
    "\n",
    "def pratt(sub, string, case):\n",
    "    let_str = string  # copying original string\n",
    "    if not case:\n",
    "        string = string.lower()  # decapitalize all capital letters for ignoring cases\n",
    "    while True:\n",
    "        symbol = chr(random.randint(0, 512))  # finding a random symbol that doesn't use in sub and string\n",
    "        if symbol not in sub + string:\n",
    "            break\n",
    "    full = sub + symbol + string\n",
    "    iter_array = [0] * len(full)  # making a list with number of overlaping symbols\n",
    "    for i in range(1, len(full)):\n",
    "        search, reverse = full[0:i], full[i::-1]\n",
    "        for j in range(1, len(search)):\n",
    "            if search[0:j] == reversed(reverse[0:j]):\n",
    "                iter_array[i] = j\n",
    "    for i in range(len(iter_array)):  # print to screen, if we find an overlap\n",
    "        if iter_array[i] == len(sub):\n",
    "            print(let_str[:i-(len(sub)*2)] + c(let_str[i-(len(sub)*2):i-len(sub)]).on_yellow + let_str[i-len(sub):])\n",
    "\n",
    "\n",
    "display(user_string, user_substring, user_letter_case)\n",
    "time_start = time.monotonic()\n",
    "pratt(user_substring.value, user_string.value, user_letter_case.value)\n",
    "time_stop = time.monotonic() - time_start\n",
    "print(\"Time: {0} s\".format(time_stop))"
   ]
  },
  {
   "source": [
    "### Упрощённый алгоритм Бойера-Мура"
   ],
   "cell_type": "markdown",
   "metadata": {}
  },
  {
   "cell_type": "code",
   "execution_count": 10,
   "metadata": {},
   "outputs": [
    {
     "output_type": "display_data",
     "data": {
      "text/plain": "Textarea(value='Hoola-hoola girls like hooligan Hooligans', description='Введите строку: ', placeholder='')",
      "application/vnd.jupyter.widget-view+json": {
       "version_major": 2,
       "version_minor": 0,
       "model_id": "cd68e501f5b240cfb4979f302de27090"
      }
     },
     "metadata": {}
    },
    {
     "output_type": "display_data",
     "data": {
      "text/plain": "Text(value='hooligan', description='Введите подстроку: ', placeholder='')",
      "application/vnd.jupyter.widget-view+json": {
       "version_major": 2,
       "version_minor": 0,
       "model_id": "03a17a4476754f1293145f6f2c5f7fe8"
      }
     },
     "metadata": {}
    },
    {
     "output_type": "display_data",
     "data": {
      "text/plain": "Checkbox(value=True, description='Учитывать регистр', indent=False)",
      "application/vnd.jupyter.widget-view+json": {
       "version_major": 2,
       "version_minor": 0,
       "model_id": "46f03d934ab44b7eb7cde3d422b20bec"
      }
     },
     "metadata": {}
    },
    {
     "output_type": "stream",
     "name": "stdout",
     "text": [
      "Hoola-hoola girls like \u001b[43mhooligan\u001b[0m Hooligans\nTime: 0.0 s\n"
     ]
    }
   ],
   "source": [
    "def mour(sub, string, case):\n",
    "    let_str = string\n",
    "    if not case:\n",
    "        string = string.lower()\n",
    "    alphabet_dict = {}\n",
    "    count = 0; res = []\n",
    "    for i in sub[::-1]:\n",
    "        if i not in alphabet_dict:\n",
    "            alphabet_dict[i] = count\n",
    "        count += 1\n",
    "    match = len(sub)-1\n",
    "    while match < len(string):\n",
    "        if sub[-1] == string[match]:\n",
    "            k = True\n",
    "            for i in range(1, len(sub)):\n",
    "                if sub[-1-i] != string[match-i]:\n",
    "                    k = False\n",
    "                    break\n",
    "            if k:\n",
    "                res.append(match-len(sub))\n",
    "            match += 1\n",
    "        elif alphabet_dict.get(string[match]) is not None:\n",
    "            match += alphabet_dict.get(string[match])\n",
    "        else:\n",
    "            match += len(sub)\n",
    "    for i in range(len(res)):\n",
    "        print(let_str[:res[i]+1] + c(let_str[res[i]+1:res[i]+len(sub)+1]).on_yellow + let_str[res[i]+len(sub)+1:])\n",
    "        \n",
    "\n",
    "display(user_string, user_substring, user_letter_case)\n",
    "if len(user_string.value) > 0 and len(user_substring.value) > 0:\n",
    "    time_start = time.monotonic()\n",
    "    mour(user_substring.value, user_string.value, user_letter_case.value)\n",
    "    time_stop = time.monotonic() - time_start\n",
    "    print(\"Time: {0} s\".format(time_stop))"
   ]
  },
  {
   "cell_type": "code",
   "execution_count": null,
   "metadata": {},
   "outputs": [],
   "source": []
  }
 ]
}