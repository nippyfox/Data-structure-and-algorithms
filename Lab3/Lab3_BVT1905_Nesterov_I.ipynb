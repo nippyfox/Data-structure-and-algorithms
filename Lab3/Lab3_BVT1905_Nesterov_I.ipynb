{
 "metadata": {
  "language_info": {
   "codemirror_mode": {
    "name": "ipython",
    "version": 3
   },
   "file_extension": ".py",
   "mimetype": "text/x-python",
   "name": "python",
   "nbconvert_exporter": "python",
   "pygments_lexer": "ipython3",
   "version": "3.9.2"
  },
  "orig_nbformat": 2,
  "kernelspec": {
   "name": "python392jvsc74a57bd00d008810b9c8467bcb3ca39aa2180e5b81b3a9acb136aab30d47954377cc5120",
   "display_name": "Python 3.9.2 64-bit"
  },
  "metadata": {
   "interpreter": {
    "hash": "0d008810b9c8467bcb3ca39aa2180e5b81b3a9acb136aab30d47954377cc5120"
   }
  }
 },
 "nbformat": 4,
 "nbformat_minor": 2,
 "cells": [
  {
   "source": [
    "# Лабораторная работа №3\n",
    "### Выполнил студент группы БВТ1905 Нестеров Юрий\n",
    "## Задание №1"
   ],
   "cell_type": "markdown",
   "metadata": {}
  },
  {
   "cell_type": "code",
   "execution_count": 2,
   "metadata": {},
   "outputs": [],
   "source": [
    "from termcolor2 import c\n",
    "import ipywidgets as wg\n",
    "import random\n",
    "import time\n",
    "\n",
    "\n",
    "user_string = wg.Textarea(value='', placeholder='', description='Введите строку: ', disabled=False)  # User inputs in notebook\n",
    "user_substring = wg.Text(value='', placeholder='', description='Введите подстроку: ', disabled=False)\n",
    "user_letter_case = wg.Checkbox(value=False, description=\"Учитывать регистр\", disabled=False, indent=False)"
   ]
  },
  {
   "source": [
    "### Стандартный алгоритм поиска подстроки в языке Python"
   ],
   "cell_type": "markdown",
   "metadata": {}
  },
  {
   "cell_type": "code",
   "execution_count": 11,
   "metadata": {},
   "outputs": [
    {
     "output_type": "display_data",
     "data": {
      "text/plain": "Textarea(value='', description='Введите строку: ', placeholder='')",
      "application/vnd.jupyter.widget-view+json": {
       "version_major": 2,
       "version_minor": 0,
       "model_id": "cd68e501f5b240cfb4979f302de27090"
      }
     },
     "metadata": {}
    },
    {
     "output_type": "display_data",
     "data": {
      "text/plain": "Text(value='', description='Введите подстроку: ', placeholder='')",
      "application/vnd.jupyter.widget-view+json": {
       "version_major": 2,
       "version_minor": 0,
       "model_id": "03a17a4476754f1293145f6f2c5f7fe8"
      }
     },
     "metadata": {}
    },
    {
     "output_type": "display_data",
     "data": {
      "text/plain": "Checkbox(value=False, description='Учитывать регистр', indent=False)",
      "application/vnd.jupyter.widget-view+json": {
       "version_major": 2,
       "version_minor": 0,
       "model_id": "46f03d934ab44b7eb7cde3d422b20bec"
      }
     },
     "metadata": {}
    },
    {
     "output_type": "stream",
     "name": "stdout",
     "text": [
      "0\nTime: 0.01599999999996271 s\n"
     ]
    }
   ],
   "source": [
    "def standart(sub, string, case):\n",
    "    let_str = string  # copying original string\n",
    "    if not case:\n",
    "        string = string.lower()  # decapitalize all capital letters for ignoring cases\n",
    "    return string.find(sub)\n",
    "\n",
    "\n",
    "display(user_string, user_substring, user_letter_case)\n",
    "time_start = time.monotonic()\n",
    "print(standart(user_substring.value, user_string.value, user_letter_case.value))\n",
    "time_stop = time.monotonic() - time_start\n",
    "print(\"Time: {0} s\".format(time_stop))"
   ]
  },
  {
   "source": [
    "### Алгоритм поиска Кнута-Морриса-Пратта"
   ],
   "cell_type": "markdown",
   "metadata": {}
  },
  {
   "cell_type": "code",
   "execution_count": 5,
   "metadata": {},
   "outputs": [
    {
     "output_type": "display_data",
     "data": {
      "text/plain": "Textarea(value='Hoola-hoola girls like hooligan', description='Введите строку: ', placeholder='')",
      "application/vnd.jupyter.widget-view+json": {
       "version_major": 2,
       "version_minor": 0,
       "model_id": "d98aa55d0ccd47a2a0f0ec53d0ca6222"
      }
     },
     "metadata": {}
    },
    {
     "output_type": "display_data",
     "data": {
      "text/plain": "Text(value='hooligan', description='Введите подстроку: ', placeholder='')",
      "application/vnd.jupyter.widget-view+json": {
       "version_major": 2,
       "version_minor": 0,
       "model_id": "ef9fbcbfa9854b84997b494f5a0008bc"
      }
     },
     "metadata": {}
    },
    {
     "output_type": "display_data",
     "data": {
      "text/plain": "Checkbox(value=False, description='Учитывать регистр', indent=False)",
      "application/vnd.jupyter.widget-view+json": {
       "version_major": 2,
       "version_minor": 0,
       "model_id": "14fdacb2fa224f8d95551490402330fd"
      }
     },
     "metadata": {}
    },
    {
     "output_type": "stream",
     "name": "stdout",
     "text": [
      "Hoola-hoola girls like \u001b[43mhooligan\u001b[0m\nTime: 0.0 s\n"
     ]
    }
   ],
   "source": [
    "def reversed(str):  # additional function for line reversal\n",
    "    return str[::-1]\n",
    "\n",
    "\n",
    "def pratt(sub, string, case):\n",
    "    let_str = string  # copying original string\n",
    "    if not case:\n",
    "        string = string.lower()  # decapitalize all capital letters for ignoring cases\n",
    "    while True:\n",
    "        symbol = chr(random.randint(0, 512))  # finding a random symbol that doesn't use in sub and string\n",
    "        if symbol not in sub + string:\n",
    "            break\n",
    "    full = sub + symbol + string\n",
    "    iter_array = [0] * len(full)  # making a list with number of overlaping symbols\n",
    "    for i in range(1, len(full)):\n",
    "        search, reverse = full[0:i], full[i::-1]\n",
    "        for j in range(1, len(search)):\n",
    "            if search[0:j] == reversed(reverse[0:j]):\n",
    "                iter_array[i] = j\n",
    "    for i in range(len(iter_array)):  # print to screen, if we find an overlap\n",
    "        if iter_array[i] == len(sub):\n",
    "            print(let_str[:i-(len(sub)*2)] + c(let_str[i-(len(sub)*2):i-len(sub)]).on_yellow + let_str[i-len(sub):])\n",
    "\n",
    "\n",
    "display(user_string, user_substring, user_letter_case)\n",
    "time_start = time.monotonic()\n",
    "pratt(user_substring.value, user_string.value, user_letter_case.value)\n",
    "time_stop = time.monotonic() - time_start\n",
    "print(\"Time: {0} s\".format(time_stop))"
   ]
  },
  {
   "source": [
    "### Упрощённый алгоритм Бойера-Мура"
   ],
   "cell_type": "markdown",
   "metadata": {}
  },
  {
   "cell_type": "code",
   "execution_count": 6,
   "metadata": {},
   "outputs": [
    {
     "output_type": "display_data",
     "data": {
      "text/plain": "Textarea(value='Hoola-hoola girls like hooligan', description='Введите строку: ', placeholder='')",
      "application/vnd.jupyter.widget-view+json": {
       "version_major": 2,
       "version_minor": 0,
       "model_id": "d98aa55d0ccd47a2a0f0ec53d0ca6222"
      }
     },
     "metadata": {}
    },
    {
     "output_type": "display_data",
     "data": {
      "text/plain": "Text(value='hooligan', description='Введите подстроку: ', placeholder='')",
      "application/vnd.jupyter.widget-view+json": {
       "version_major": 2,
       "version_minor": 0,
       "model_id": "ef9fbcbfa9854b84997b494f5a0008bc"
      }
     },
     "metadata": {}
    },
    {
     "output_type": "display_data",
     "data": {
      "text/plain": "Checkbox(value=False, description='Учитывать регистр', indent=False)",
      "application/vnd.jupyter.widget-view+json": {
       "version_major": 2,
       "version_minor": 0,
       "model_id": "14fdacb2fa224f8d95551490402330fd"
      }
     },
     "metadata": {}
    },
    {
     "output_type": "stream",
     "name": "stdout",
     "text": [
      "Hoola-hoola girls like \u001b[43mhooligan\u001b[0m\nTime: 0.0 s\n"
     ]
    }
   ],
   "source": [
    "def mour(sub, string, case):\n",
    "    let_str = string\n",
    "    if not case:\n",
    "        string = string.lower()\n",
    "    alphabet_dict = {}\n",
    "    count = 0; res = []\n",
    "    for i in sub[::-1]:\n",
    "        if i not in alphabet_dict:\n",
    "            alphabet_dict[i] = count\n",
    "        count += 1\n",
    "    match = len(sub)-1\n",
    "    while match < len(string):\n",
    "        if sub[-1] == string[match]:\n",
    "            k = True\n",
    "            for i in range(1, len(sub)):\n",
    "                if sub[-1-i] != string[match-i]:\n",
    "                    k = False\n",
    "                    break\n",
    "            if k:\n",
    "                res.append(match-len(sub))\n",
    "            match += 1\n",
    "        elif alphabet_dict.get(string[match]) is not None:\n",
    "            match += alphabet_dict.get(string[match])\n",
    "        else:\n",
    "            match += len(sub)\n",
    "    for i in range(len(res)):\n",
    "        print(let_str[:res[i]+1] + c(let_str[res[i]+1:res[i]+len(sub)+1]).on_yellow + let_str[res[i]+len(sub)+1:])\n",
    "        \n",
    "\n",
    "display(user_string, user_substring, user_letter_case)\n",
    "if len(user_string.value) > 0 and len(user_substring.value) > 0:\n",
    "    time_start = time.monotonic()\n",
    "    mour(user_substring.value, user_string.value, user_letter_case.value)\n",
    "    time_stop = time.monotonic() - time_start\n",
    "    print(\"Time: {0} s\".format(time_stop))"
   ]
  },
  {
   "source": [
    "## Задание №2"
   ],
   "cell_type": "markdown",
   "metadata": {}
  },
  {
   "cell_type": "code",
   "execution_count": 1,
   "metadata": {},
   "outputs": [],
   "source": [
    "start = [\n",
    "            [ 1,  6,  7,  5],\n",
    "            [ 9,  3, 10,  2],\n",
    "            [13,  8,  4, 12],\n",
    "            [14, 11, 15,  0]\n",
    "        ]"
   ]
  },
  {
   "cell_type": "code",
   "execution_count": 7,
   "metadata": {},
   "outputs": [
    {
     "output_type": "stream",
     "name": "stdout",
     "text": [
      "['up',\n 'left',\n 'left',\n 'up',\n 'right',\n 'up',\n 'right',\n 'down',\n 'down',\n 'left',\n 'up',\n 'up',\n 'right',\n 'down',\n 'down',\n 'left',\n 'left',\n 'up',\n 'right',\n 'down',\n 'right',\n 'down',\n 'left',\n 'left',\n 'left',\n 'up',\n 'up',\n 'right',\n 'up',\n 'right',\n 'down',\n 'down',\n 'down',\n 'right']\nNeed: 34 moves\nTime: 11.015999999988708 s.\n"
     ]
    }
   ],
   "source": [
    "import copy\n",
    "from pprint import pprint\n",
    "\n",
    "\n",
    "class Node:\n",
    "    def __init__(self, position, moves, heuristic):  # Builds a new node\n",
    "        self._position = position\n",
    "        self._moves = moves\n",
    "        self._heuristic = heuristic\n",
    "        self._h_score = None\n",
    "\n",
    "    def get_position(self):  # Get position of the Node\n",
    "        return copy.deepcopy(self._position)\n",
    "\n",
    "    def get_g_score(self):  # Get gScore of the Node\n",
    "        return len(self._moves)\n",
    "\n",
    "    def get_h_score(self):  # Get hScore of this Node. Heuristic passed in the constructor will be used for computation\n",
    "        if self._h_score is None:\n",
    "            self._h_score = self._heuristic.compute(self)\n",
    "        return self._h_score\n",
    "\n",
    "    def get_f_score(self):  # Get fScore of the Node fScore = gScore + hScore\n",
    "        return self.get_g_score() + self.get_h_score()\n",
    "\n",
    "    def get_moves(self):  # Return list of moves which bring us to this position\n",
    "        return copy.copy(self._moves)\n",
    "\n",
    "    def get_heuristic(self):  # Return heuristic used to compute hScore for this node\n",
    "        return self._heuristic\n",
    "\n",
    "    def get_coord(self, value):  # Get i and j coord of the given value\n",
    "        i = 0\n",
    "        for row in self._position:\n",
    "            j = 0\n",
    "            for cell in row:\n",
    "                if cell == value:\n",
    "                    return [i, j]\n",
    "                j += 1\n",
    "            i += 1\n",
    "\n",
    "\n",
    "\n",
    "class NodeBuilder:  # Build child nodes for 15-puzzle\n",
    "    def get_child_nodes(self, node):  # Return list of valid child nodes\n",
    "        children = []\n",
    "        i_space, j_space = node.get_coord(0)\n",
    "        for i in range(-1, 2):\n",
    "            for j in range(-1, 2):\n",
    "                if i * j != 0 or i == j:\n",
    "                    continue\n",
    "                i_swap, j_swap = i_space + i, j_space + j\n",
    "                if not (0 <= i_swap <= 3) or not (0 <= j_swap <= 3):\n",
    "                    continue\n",
    "                position = node.get_position()\n",
    "                position[i_space][j_space] = position[i_swap][j_swap]\n",
    "                position[i_swap][j_swap] = 0\n",
    "                moves = node.get_moves()\n",
    "                moves.append(self._get_move_name(i, j))\n",
    "                child = Node(position, moves, node.get_heuristic())\n",
    "                children.append(child)\n",
    "        return children\n",
    "\n",
    "    def _get_move_name(self, i_delta, j_delta):\n",
    "        if i_delta == -1:\n",
    "            return 'up'\n",
    "        if i_delta == 1:\n",
    "            return 'down'\n",
    "        if j_delta == -1:\n",
    "            return 'left'\n",
    "        if j_delta == 1:\n",
    "            return 'right'\n",
    "\n",
    "\n",
    "class NodePool:\n",
    "    def __init__(self):\n",
    "        self._pool = []\n",
    "        self._history = {}\n",
    "\n",
    "    def add(self, node):\n",
    "        if str(node.get_position()) in self._history:\n",
    "            # duplicate entry\n",
    "            return\n",
    "        self._history[str(node.get_position())] = True\n",
    "        self._insort(node)\n",
    "\n",
    "    def pop(self):\n",
    "        return self._pool.pop(0)\n",
    "\n",
    "    def is_empty(self):\n",
    "        return len(self._pool) == 0\n",
    "\n",
    "    def _insort(self, node):\n",
    "        low = 0\n",
    "        high = len(self._pool)\n",
    "        while low < high:\n",
    "            mid = (low + high) // 2\n",
    "            if node.get_f_score() < self._pool[mid].get_f_score():\n",
    "                high = mid\n",
    "            else:\n",
    "                low = mid + 1\n",
    "        self._pool.insert(low, node)\n",
    "\n",
    "\n",
    "class ManhattanDistance:\n",
    "    def __init__(self):\n",
    "        self._goal = Node([\n",
    "            [ 1,  2,  3,  4],\n",
    "            [ 5,  6,  7,  8],\n",
    "            [ 9, 10, 11, 12],\n",
    "            [13, 14, 15,  0]\n",
    "        ], [], self)\n",
    "\n",
    "    def compute(self, node):  # Computes Manhattan distance of the given Node\n",
    "        score = 0\n",
    "        for value in range(1, 16):\n",
    "            i_goal, j_goal = self._goal.get_coord(value)\n",
    "            i_actual, j_actual = node.get_coord(value)\n",
    "            score += abs(i_goal - i_actual) + abs(j_goal - j_actual)\n",
    "        return score\n",
    "\n",
    "\n",
    "class AStar:\n",
    "    def __init__(self, heuristic):\n",
    "        self._node_pool = NodePool()\n",
    "        self._node_builder = NodeBuilder()\n",
    "        self._heuristic = heuristic\n",
    "\n",
    "    def solve(self, position):\n",
    "        self._bootstrap(position)\n",
    "        while not self._node_pool.is_empty():\n",
    "            cur_node = self._node_pool.pop()\n",
    "            if cur_node.get_h_score() == 0:\n",
    "                return cur_node.get_moves()\n",
    "            children = self._node_builder.get_child_nodes(cur_node)\n",
    "            for child in children:\n",
    "                self._node_pool.add(child)\n",
    "        return None\n",
    "\n",
    "    def _bootstrap(self, position):\n",
    "        node = Node(position, [], self._heuristic)\n",
    "        self._node_pool.add(node)\n",
    "\n",
    "\n",
    "heuristic = ManhattanDistance()\n",
    "astar = AStar(heuristic)\n",
    "\n",
    "start_time = time.monotonic()\n",
    "result = astar.solve(start)\n",
    "\n",
    "if result is None:\n",
    "    print('There is no solution')\n",
    "else:\n",
    "    pprint(result)\n",
    "    print('Need: {0} moves'.format(len(result)))\n",
    "    print('Time: {0} s.'.format((time.monotonic() - start_time)))"
   ]
  },
  {
   "source": [
    "## Вывод\n",
    "\n",
    "В процессе выполнения данной работы я реализовал такие методы поиска подстроки в строке, как метод Кнута-Морисса-Пратта и упрощённый метод Бойера-Мура. Для каждого из поисков реализован графический вывод каждой найденной подстроки в терминал ноутбука. Также, был реализован алгоритм А* для нахождения максимально оптимального решения для игры в \"Пятнашки\"."
   ],
   "cell_type": "markdown",
   "metadata": {}
  }
 ]
}