{
 "metadata": {
  "language_info": {
   "codemirror_mode": {
    "name": "ipython",
    "version": 3
   },
   "file_extension": ".py",
   "mimetype": "text/x-python",
   "name": "python",
   "nbconvert_exporter": "python",
   "pygments_lexer": "ipython3",
   "version": "3.9.2"
  },
  "orig_nbformat": 2,
  "kernelspec": {
   "name": "python392jvsc74a57bd00d008810b9c8467bcb3ca39aa2180e5b81b3a9acb136aab30d47954377cc5120",
   "display_name": "Python 3.9.2 64-bit"
  },
  "metadata": {
   "interpreter": {
    "hash": "0d008810b9c8467bcb3ca39aa2180e5b81b3a9acb136aab30d47954377cc5120"
   }
  }
 },
 "nbformat": 4,
 "nbformat_minor": 2,
 "cells": [
  {
   "source": [
    "# Лабораторная работа №3\n",
    "### Выполнил студент группы БВТ1905 Нестеров Юрий\n",
    "## Задание №1"
   ],
   "cell_type": "markdown",
   "metadata": {}
  },
  {
   "cell_type": "code",
   "execution_count": 2,
   "metadata": {},
   "outputs": [],
   "source": [
    "from termcolor import colored\n",
    "import ipywidgets as wg\n",
    "import random\n",
    "import time\n",
    "\n",
    "\n",
    "user_string = wg.Textarea(value='', placeholder='', description='Введите строку: ', disabled=False)  # User inputs in notebook\n",
    "user_substring = wg.Text(value='', placeholder='', description='Введите подстроку: ', disabled=False)\n",
    "user_letter_case = wg.Checkbox(value=False, description=\"Учитывать регистр\", disabled=False, indent=False)"
   ]
  },
  {
   "source": [
    "### Алгоритм поиска Кнута-Морриса-Пратта"
   ],
   "cell_type": "markdown",
   "metadata": {}
  },
  {
   "cell_type": "code",
   "execution_count": 5,
   "metadata": {},
   "outputs": [
    {
     "output_type": "display_data",
     "data": {
      "text/plain": "Text(value='ipsum', description='Введите подстроку: ', placeholder='')",
      "application/vnd.jupyter.widget-view+json": {
       "version_major": 2,
       "version_minor": 0,
       "model_id": "7c50e461346c401d94e8ffd47334da71"
      }
     },
     "metadata": {}
    },
    {
     "output_type": "display_data",
     "data": {
      "text/plain": "Textarea(value='Lorem ipsum bla ipsum', description='Введите строку: ', placeholder='')",
      "application/vnd.jupyter.widget-view+json": {
       "version_major": 2,
       "version_minor": 0,
       "model_id": "d03d6b5f512c4066a346999508bba74b"
      }
     },
     "metadata": {}
    },
    {
     "output_type": "stream",
     "name": "stdout",
     "text": [
      "Нашёл совпадение на 16-том шагу\nipsum\nНашёл совпадение на 26-том шагу\nipsum\n"
     ]
    }
   ],
   "source": [
    "def reversed(str):\n",
    "    return str[::-1]\n",
    "\n",
    "\n",
    "def pratt(sub, string):\n",
    "    while True:\n",
    "        symbol = chr(random.randint(0, 512))\n",
    "        if symbol not in sub + string:\n",
    "            break\n",
    "    full = sub + symbol + string\n",
    "    iter_array = [0] * len(full)\n",
    "    for i in range(1, len(full)):\n",
    "        search, reverse = full[0:i], full[i::-1]\n",
    "        for j in range(1, len(search)):\n",
    "            if search[0:j] == reversed(reverse[0:j]):\n",
    "                iter_array[i] = j\n",
    "    for i in range(len(iter_array)):\n",
    "        if iter_array[i] == len(sub):\n",
    "            print(\"Нашёл совпадение на \" + str(i) + \"-том шагу\")\n",
    "            print(full[i-len(sub)+1:i+1])\n",
    "\n",
    "\n",
    "display(user_substring, user_string)\n",
    "pratt(user_substring.value, user_string.value)"
   ]
  },
  {
   "source": [
    "### Упрощённый алгоритм Бойера-Мура"
   ],
   "cell_type": "markdown",
   "metadata": {}
  },
  {
   "cell_type": "code",
   "execution_count": 14,
   "metadata": {},
   "outputs": [
    {
     "output_type": "display_data",
     "data": {
      "text/plain": "Text(value='Hooligan', description='Введите подстроку: ', placeholder='')",
      "application/vnd.jupyter.widget-view+json": {
       "version_major": 2,
       "version_minor": 0,
       "model_id": "d7b83b780546463b975b8c0b8808071d"
      }
     },
     "metadata": {}
    },
    {
     "output_type": "display_data",
     "data": {
      "text/plain": "Textarea(value='Hoola-Hoola girls like Hooligans Hooligan', description='Введите строку: ', placeholder='')",
      "application/vnd.jupyter.widget-view+json": {
       "version_major": 2,
       "version_minor": 0,
       "model_id": "16e2ec41386b4a48ab7f7c20214b3daf"
      }
     },
     "metadata": {}
    },
    {
     "output_type": "stream",
     "name": "stdout",
     "text": [
      "[22, 32]\n"
     ]
    }
   ],
   "source": [
    "def mour(sub, string):\n",
    "    alphabet_dict = {}\n",
    "    count = 0; res = []\n",
    "    for i in sub[::-1]:\n",
    "        if i not in alphabet_dict:\n",
    "            alphabet_dict[i] = count\n",
    "        count += 1\n",
    "    match = len(sub)-1\n",
    "    while match < len(string):\n",
    "        if sub[-1] == string[match]:\n",
    "            c = True\n",
    "            for i in range(1, len(sub)):\n",
    "                if sub[-1-i] != string[match-i]:\n",
    "                    c = False\n",
    "                    break\n",
    "            if c:\n",
    "                res.append(match-len(sub))\n",
    "            match += 1\n",
    "        elif alphabet_dict.get(string[match]) is not None:\n",
    "            match += alphabet_dict.get(string[match])\n",
    "        else:\n",
    "            match += len(sub)\n",
    "    return res\n",
    "        \n",
    "\n",
    "display(user_substring, user_string)\n",
    "if len(user_substring.value) + len(user_string.value) > 0:\n",
    "    print(mour(user_substring.value, user_string.value))"
   ]
  },
  {
   "cell_type": "code",
   "execution_count": null,
   "metadata": {},
   "outputs": [],
   "source": []
  }
 ]
}