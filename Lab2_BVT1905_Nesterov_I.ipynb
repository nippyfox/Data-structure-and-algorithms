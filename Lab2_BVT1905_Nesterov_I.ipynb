{
 "metadata": {
  "language_info": {
   "codemirror_mode": {
    "name": "ipython",
    "version": 3
   },
   "file_extension": ".py",
   "mimetype": "text/x-python",
   "name": "python",
   "nbconvert_exporter": "python",
   "pygments_lexer": "ipython3",
   "version": "3.9.2-final"
  },
  "orig_nbformat": 2,
  "kernelspec": {
   "name": "python3",
   "display_name": "Python 3.9.2 64-bit",
   "metadata": {
    "interpreter": {
     "hash": "0d008810b9c8467bcb3ca39aa2180e5b81b3a9acb136aab30d47954377cc5120"
    }
   }
  }
 },
 "nbformat": 4,
 "nbformat_minor": 2,
 "cells": [
  {
   "source": [
    "# Лабораторная работа №2\n",
    "### Выполнил студент БВТ1905 Нестеров Юрий\n",
    "## Задание №1"
   ],
   "cell_type": "markdown",
   "metadata": {}
  },
  {
   "cell_type": "code",
   "execution_count": 2,
   "metadata": {},
   "outputs": [],
   "source": [
    "import ipywidgets as wg\n",
    "import random\n",
    "import time\n",
    "\n",
    "user_min = wg.IntText(value=0, description=\"Min value: \", disabled=False)  # User inputs in notebook\n",
    "user_max = wg.IntText(value=0, description=\"Max value: \", disabled=False)\n",
    "user_num = wg.IntText(value=0, description=\"Amount: \", disabled=False)\n",
    "\n",
    "user_add = wg.IntText(value=0, description=\"Add value: \", disabled=False)\n",
    "user_delete = wg.IntText(value=0, description=\"Delete: \", disabled=False)\n",
    "\n",
    "user_binary = wg.IntText(value=0, description=\"Find:\", disabled=False)\n",
    "user_fibonacci = wg.IntText(value=0, description=\"Find:\", disabled=False)\n",
    "user_interpol = wg.IntText(value=0, description=\"Find:\", disabled=False)"
   ]
  },
  {
   "source": [
    "### Сгенерировать список"
   ],
   "cell_type": "markdown",
   "metadata": {}
  },
  {
   "cell_type": "code",
   "execution_count": 10,
   "metadata": {},
   "outputs": [
    {
     "output_type": "display_data",
     "data": {
      "text/plain": "IntText(value=5, description='Min value: ')",
      "application/vnd.jupyter.widget-view+json": {
       "version_major": 2,
       "version_minor": 0,
       "model_id": "0a26b6624bd94f939263dd94932e2c71"
      }
     },
     "metadata": {}
    },
    {
     "output_type": "display_data",
     "data": {
      "text/plain": "IntText(value=50, description='Max value: ')",
      "application/vnd.jupyter.widget-view+json": {
       "version_major": 2,
       "version_minor": 0,
       "model_id": "ab8cf058da7643e389f888db74be0ba1"
      }
     },
     "metadata": {}
    },
    {
     "output_type": "display_data",
     "data": {
      "text/plain": "IntText(value=10, description='Amount: ')",
      "application/vnd.jupyter.widget-view+json": {
       "version_major": 2,
       "version_minor": 0,
       "model_id": "6e625e1aa3284a05906521472242535a"
      }
     },
     "metadata": {}
    },
    {
     "output_type": "stream",
     "name": "stdout",
     "text": [
      "[8, 9, 9, 26, 29, 35, 43, 44, 47, 48]\n"
     ]
    }
   ],
   "source": [
    "def generate_list(min_value, max_value, num_value):\n",
    "    array = [random.randrange(min_value, max_value) for i in range(num_value)]\n",
    "    return array\n",
    "\n",
    "\n",
    "display(user_min, user_max, user_num)\n",
    "use_list = generate_list(user_min.value, user_max.value, user_num.value)\n",
    "use_list.sort()\n",
    "print(use_list)"
   ]
  },
  {
   "source": [
    "### Добавить в список элемент"
   ],
   "cell_type": "markdown",
   "metadata": {}
  },
  {
   "cell_type": "code",
   "execution_count": 11,
   "metadata": {},
   "outputs": [
    {
     "output_type": "display_data",
     "data": {
      "text/plain": "IntText(value=15, description='Add value: ')",
      "application/vnd.jupyter.widget-view+json": {
       "version_major": 2,
       "version_minor": 0,
       "model_id": "91b30873b18c4b30ad2cad2e975d2cb4"
      }
     },
     "metadata": {}
    },
    {
     "output_type": "stream",
     "name": "stdout",
     "text": [
      "[8, 9, 9, 15, 26, 29, 35, 43, 44, 47, 48]\n"
     ]
    }
   ],
   "source": [
    "display(user_add)\n",
    "use_list.append(user_add.value)\n",
    "use_list.sort()\n",
    "print(use_list)"
   ]
  },
  {
   "source": [
    "### Удалить элемент из списка"
   ],
   "cell_type": "markdown",
   "metadata": {}
  },
  {
   "cell_type": "code",
   "execution_count": 12,
   "metadata": {},
   "outputs": [
    {
     "output_type": "display_data",
     "data": {
      "text/plain": "IntText(value=9, description='Delete: ')",
      "application/vnd.jupyter.widget-view+json": {
       "version_major": 2,
       "version_minor": 0,
       "model_id": "65e9c6d975f44a5ca2a613439e382418"
      }
     },
     "metadata": {}
    },
    {
     "output_type": "stream",
     "name": "stdout",
     "text": [
      "[8, 9, 15, 26, 29, 35, 43, 44, 47, 48]\n"
     ]
    }
   ],
   "source": [
    "display(user_delete)\n",
    "if user_delete.value in use_list:\n",
    "    use_list.remove(user_delete.value)\n",
    "print(use_list)"
   ]
  },
  {
   "cell_type": "code",
   "execution_count": 14,
   "metadata": {},
   "outputs": [
    {
     "output_type": "display_data",
     "data": {
      "text/plain": "IntText(value=44, description='Find:')",
      "application/vnd.jupyter.widget-view+json": {
       "version_major": 2,
       "version_minor": 0,
       "model_id": "af093aac38d64134a44bc1a822cd5bcb"
      }
     },
     "metadata": {}
    },
    {
     "output_type": "stream",
     "name": "stdout",
     "text": [
      "[8, 9, 15, 26, 29, 35, 43, 44, 47, 48]\nFinded 44 at 7\nTime: 0.0009970664978027344 s\n"
     ]
    }
   ],
   "source": [
    "def binary_search(array, key):  # Binary search\n",
    "    lower_bound = 0\n",
    "    upper_bound = len(array) - 1\n",
    "\n",
    "    while lower_bound <= upper_bound:\n",
    "        center = (lower_bound + upper_bound) // 2\n",
    "        \n",
    "        if array[center] > key:\n",
    "            upper_bound = center - 1\n",
    "        elif array[center] < key:\n",
    "            lower_bound = center + 1\n",
    "        else:\n",
    "            return center\n",
    "\n",
    "    return -1\n",
    "\n",
    "\n",
    "display(user_binary)\n",
    "time_start = time.time()\n",
    "find_key = binary_search(use_list, user_binary.value)\n",
    "time_stop = time.time() - time_start\n",
    "print(use_list)\n",
    "if find_key == -1:\n",
    "    print(\"Element {0} is not finded\".format(str(user_binary.value)))\n",
    "elif find_key > -1:\n",
    "    print(\"Finded {0} at {1}\".format(str(user_binary.value), str(find_key)))\n",
    "print(\"Time: {0} s\".format(time_stop))"
   ]
  },
  {
   "source": [
    "def fibonacci_search(array, key):\n",
    "    num_fib_m2 = 0\n",
    "    num_fib_m1 = 1\n",
    "    num_fib = num_fib_m1 + num_fib_m2\n",
    "    while num_fib < len(array):\n",
    "        num_fib_m2 = num_fib_m1\n",
    "        num_fib_m1 = num_fib\n",
    "        num_fib = num_fib_m1 + num_fib_m2\n",
    "    index = -1\n",
    "    while num_fib > 1:\n",
    "        i = min(index + num_fib_m2, (len(array) - 1))\n",
    "        if (array[i] < key):\n",
    "            num_fib = num_fib_m1\n",
    "            num_fib_m1 = num_fib_m2\n",
    "            num_fib_m2 = num_fib - num_fib_m1\n",
    "            index = i\n",
    "        elif (array[i] > key):\n",
    "            num_fib = num_fib_m2\n",
    "            num_fib_m1 = num_fib_m1 - num_fib_m2\n",
    "            num_fib_m2 = num_fib - num_fib_m1\n",
    "        else:\n",
    "            return i\n",
    "    if num_fib_m1 and index < len(array) - 1 and array[index + 1] == key:\n",
    "        return index + 1\n",
    "    return -1\n",
    "\n",
    "display(user_fibonacci)\n",
    "time_start = time.time()\n",
    "find_key = fibonacci_search(use_list, user_binary.value)\n",
    "time_stop = time.time() - time_start\n",
    "print(use_list)\n",
    "if find_key == -1:\n",
    "    print(\"Element {0} not finded\".format(str(user_fibonacci.value)))\n",
    "elif find_key > -1:\n",
    "    print(\"Finded {0} at {1}\".format(str(user_fibonacci.value), str(find_key)))\n",
    "print(\"Time: {0} s\".format(time_stop))"
   ],
   "cell_type": "code",
   "metadata": {},
   "execution_count": 15,
   "outputs": [
    {
     "output_type": "display_data",
     "data": {
      "text/plain": "IntText(value=47, description='Find:')",
      "application/vnd.jupyter.widget-view+json": {
       "version_major": 2,
       "version_minor": 0,
       "model_id": "be225bc467d74ecd9f3f77a26c670740"
      }
     },
     "metadata": {}
    },
    {
     "output_type": "stream",
     "name": "stdout",
     "text": [
      "[8, 9, 15, 26, 29, 35, 43, 44, 47, 48]\nFinded 47 at 7\nTime: 0.0010547637939453125 s\n"
     ]
    }
   ]
  },
  {
   "cell_type": "code",
   "execution_count": 16,
   "metadata": {},
   "outputs": [
    {
     "output_type": "display_data",
     "data": {
      "text/plain": "IntText(value=35, description='Find:')",
      "application/vnd.jupyter.widget-view+json": {
       "version_major": 2,
       "version_minor": 0,
       "model_id": "79bbf0e758b94afcb5e5319f0cfa49e1"
      }
     },
     "metadata": {}
    },
    {
     "output_type": "stream",
     "name": "stdout",
     "text": [
      "[8, 9, 15, 26, 29, 35, 43, 44, 47, 48]\nFinded 35 at 5\nTime: 0.0012125968933105469 s\n"
     ]
    }
   ],
   "source": [
    "def interpol_search(array, key):\n",
    "    lower_bound = 0\n",
    "    upper_bound = len(array) - 1\n",
    "    while lower_bound <= upper_bound and key >= array[lower_bound] and key <= array[upper_bound]:\n",
    "        index = lower_bound + int(((float(upper_bound - lower_bound) / (array[upper_bound] - array[lower_bound])) * (key - array[lower_bound])))\n",
    "        if array[index] == key:\n",
    "            return index\n",
    "        if array[index] < key:\n",
    "            lower_bound = index + 1\n",
    "        else:\n",
    "            upper_bound = index - 1\n",
    "    return -1\n",
    "\n",
    "display(user_interpol)\n",
    "time_start = time.time()\n",
    "find_key = interpol_search(use_list, user_interpol.value)\n",
    "time_stop = time.time() - time_start\n",
    "print(use_list)\n",
    "if find_key == -1:\n",
    "    print(\"Element {0} not finded\".format(str(user_interpol.value)))\n",
    "elif find_key > -1:\n",
    "    print(\"Finded {0} at {1}\".format(str(user_interpol.value), str(find_key)))\n",
    "print(\"Time: {0} s\".format(time_stop))"
   ]
  },
  {
   "cell_type": "code",
   "execution_count": null,
   "metadata": {},
   "outputs": [],
   "source": [
    "class node:\n",
    "    def __init__(self, value=None):\n",
    "        self.value = value\n",
    "        self.left_child = None\n",
    "        self.right_child = None\n",
    "\n",
    "\n",
    "class binary_search_tree:\n",
    "    def __init__(self):\n",
    "        self.root = None\n",
    "\n",
    "\n",
    "    def insert(self, value):\n",
    "        if self.root is None:\n",
    "            self.root = node(value)\n",
    "        else:\n",
    "            self._insert(value, self.root)\n",
    "\n",
    "    \n",
    "    def _insert(self, value, cur_node):\n",
    "        if value < cur_node.value:\n",
    "            if cur_node.left_child is None:\n",
    "                cur_node.left_child = node(value)\n",
    "            else:\n",
    "                self._insert(value, cur_node.left_child)\n",
    "        elif value > cur_node.value:\n",
    "            if cur_node.right_child is None:\n",
    "                cur_node.right_child = node(value)\n",
    "            else:\n",
    "                self._insert(value, cur_node.right_child)\n",
    "        else:\n",
    "            print(\"Value already in tree!\")\n",
    "\n",
    "    \n",
    "    def print_tree(self):\n",
    "        if self.root is not None:\n",
    "            self._print_tree(self.root)\n",
    "\n",
    "    \n",
    "    def _print_tree(self, cur_node):\n",
    "        if cur_node is not None:\n",
    "            self._print_tree(cur_node.left_child)\n",
    "            print(str(cur_node.value))\n",
    "            self._print_tree(cur_node.right_child)\n",
    "\n",
    "    \n",
    "    def height(self):\n",
    "        if self.root is not None:\n",
    "            return self._height(self.root, 0)\n",
    "        else:\n",
    "            return 0\n",
    "    \n",
    "    \n",
    "    def _height(self, cur_node, cur_height):\n",
    "        if cur_node is None:\n",
    "            return cur_height\n",
    "        left_height = self._height(cur_node.left_child, cur_height + 1)\n",
    "        right_height = self._height(cur_node.right_child, cur_height + 1)\n",
    "        return max(left_height, right_height)\n",
    "\n",
    "    \n",
    "    def search(self, value):\n",
    "        if self.root is not None:\n",
    "            return self._search(value, self.root)\n",
    "        else:\n",
    "            return False\n",
    "    \n",
    "\n",
    "    def _search(self, value, cur_node):\n",
    "        if value == cur_node.value:\n",
    "            return True\n",
    "        elif value < cur_node.value and cur_node.left_child is not None:\n",
    "            return self._search(value, cur_node.left_child)\n",
    "        elif value > cur_node.value and cur_node.right_child is not None:\n",
    "            return self._search(value, cur_node.right_child)\n",
    "        return False\n",
    "\n",
    "\n",
    "def fill_tree(tree, num_elems = 100, max_int = 1000):\n",
    "    for _ in range(num_elems):\n",
    "        cur_elem = random.randint(0, max_int)\n",
    "        tree.insert(cur_elem)\n",
    "    return tree\n",
    "\n",
    "\n",
    "tree = binary_search_tree()\n",
    "tree = fill_tree(tree)\n",
    "\n",
    "tree.insert(1034)\n",
    "\n",
    "tree.print_tree()\n",
    "\n",
    "print(\"tree height: \" + str(tree.height()))\n",
    "\n",
    "print(tree.search(1034))"
   ]
  }
 ]
}